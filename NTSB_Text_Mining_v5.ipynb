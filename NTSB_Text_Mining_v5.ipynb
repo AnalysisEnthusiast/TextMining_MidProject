{
  "nbformat": 4,
  "nbformat_minor": 0,
  "metadata": {
    "colab": {
      "provenance": [],
      "collapsed_sections": []
    },
    "kernelspec": {
      "name": "python3",
      "display_name": "Python 3"
    },
    "language_info": {
      "name": "python"
    }
  },
  "cells": [
    {
      "cell_type": "code",
      "execution_count": 5,
      "metadata": {
        "id": "xPCSSHqAbUKY"
      },
      "outputs": [],
      "source": [
        "## Importing the libraries\n",
        "\n",
        "import numpy as np\n",
        "import matplotlib.pyplot as plt\n",
        "import pandas as pd\n",
        "import csv\n",
        "\n"
      ]
    },
    {
      "cell_type": "code",
      "source": [
        "sheetnames = ['aircraft', 'events','Findings','narratives']"
      ],
      "metadata": {
        "id": "mb1k_7nMgcrf"
      },
      "execution_count": 6,
      "outputs": []
    },
    {
      "cell_type": "code",
      "source": [
        "filename = 'Summarized_NTSB_Data_v6.xlsx'"
      ],
      "metadata": {
        "id": "JTtlPnsSlWTi"
      },
      "execution_count": 7,
      "outputs": []
    },
    {
      "cell_type": "code",
      "source": [
        "df_aircraft= pd.read_excel(filename, sheet_name = sheetnames[0])\n",
        "df_events= pd.read_excel(filename, sheet_name = sheetnames[1])\n",
        "df_Findings= pd.read_excel(filename, sheet_name = sheetnames[2])\n",
        "df_narratives= pd.read_excel(filename, sheet_name = sheetnames[3])"
      ],
      "metadata": {
        "id": "Um_2YzvZlrXL"
      },
      "execution_count": 8,
      "outputs": []
    },
    {
      "cell_type": "markdown",
      "source": [
        "The FAR PARTs and AIRCRAFT categories are filtered and stored in the AIRCRAFT sheet, while the YEARs are filtered and stored in the EVENTS sheet. Since the rows in the filtered AIRCRAFT sheet are fewer than of the filtered EVENTS sheet, I put the further base of filtering on the filtered AIRCRAFT sheet!"
      ],
      "metadata": {
        "id": "rIYGtf9trcvS"
      }
    },
    {
      "cell_type": "code",
      "source": [
        "sheet=[df_aircraft,\n",
        "       df_events,\n",
        "       df_Findings,\n",
        "       df_narratives]\n",
        "\n"
      ],
      "metadata": {
        "id": "xQ74HIJBlyX4"
      },
      "execution_count": 9,
      "outputs": []
    },
    {
      "cell_type": "code",
      "source": [
        "sheet[0].columns"
      ],
      "metadata": {
        "colab": {
          "base_uri": "https://localhost:8080/"
        },
        "id": "EGH8Y1vBnbOl",
        "outputId": "b65bc1cb-0871-4be4-fd7f-76a18754e5ff"
      },
      "execution_count": 10,
      "outputs": [
        {
          "output_type": "execute_result",
          "data": {
            "text/plain": [
              "Index(['ev_id', 'Aircraft_Key', 'far_part', 'damage', 'acft_category'], dtype='object')"
            ]
          },
          "metadata": {},
          "execution_count": 10
        }
      ]
    },
    {
      "cell_type": "code",
      "source": [
        "sheet[0][0:0]"
      ],
      "metadata": {
        "colab": {
          "base_uri": "https://localhost:8080/",
          "height": 49
        },
        "id": "pUxYMyrL9AdP",
        "outputId": "86fb749a-211b-4da6-b326-33fbf49c3db1"
      },
      "execution_count": 11,
      "outputs": [
        {
          "output_type": "execute_result",
          "data": {
            "text/plain": [
              "Empty DataFrame\n",
              "Columns: [ev_id, Aircraft_Key, far_part, damage, acft_category]\n",
              "Index: []"
            ],
            "text/html": [
              "\n",
              "  <div id=\"df-f372d2bc-c86d-4789-bd82-b5742b6d8533\">\n",
              "    <div class=\"colab-df-container\">\n",
              "      <div>\n",
              "<style scoped>\n",
              "    .dataframe tbody tr th:only-of-type {\n",
              "        vertical-align: middle;\n",
              "    }\n",
              "\n",
              "    .dataframe tbody tr th {\n",
              "        vertical-align: top;\n",
              "    }\n",
              "\n",
              "    .dataframe thead th {\n",
              "        text-align: right;\n",
              "    }\n",
              "</style>\n",
              "<table border=\"1\" class=\"dataframe\">\n",
              "  <thead>\n",
              "    <tr style=\"text-align: right;\">\n",
              "      <th></th>\n",
              "      <th>ev_id</th>\n",
              "      <th>Aircraft_Key</th>\n",
              "      <th>far_part</th>\n",
              "      <th>damage</th>\n",
              "      <th>acft_category</th>\n",
              "    </tr>\n",
              "  </thead>\n",
              "  <tbody>\n",
              "  </tbody>\n",
              "</table>\n",
              "</div>\n",
              "      <button class=\"colab-df-convert\" onclick=\"convertToInteractive('df-f372d2bc-c86d-4789-bd82-b5742b6d8533')\"\n",
              "              title=\"Convert this dataframe to an interactive table.\"\n",
              "              style=\"display:none;\">\n",
              "        \n",
              "  <svg xmlns=\"http://www.w3.org/2000/svg\" height=\"24px\"viewBox=\"0 0 24 24\"\n",
              "       width=\"24px\">\n",
              "    <path d=\"M0 0h24v24H0V0z\" fill=\"none\"/>\n",
              "    <path d=\"M18.56 5.44l.94 2.06.94-2.06 2.06-.94-2.06-.94-.94-2.06-.94 2.06-2.06.94zm-11 1L8.5 8.5l.94-2.06 2.06-.94-2.06-.94L8.5 2.5l-.94 2.06-2.06.94zm10 10l.94 2.06.94-2.06 2.06-.94-2.06-.94-.94-2.06-.94 2.06-2.06.94z\"/><path d=\"M17.41 7.96l-1.37-1.37c-.4-.4-.92-.59-1.43-.59-.52 0-1.04.2-1.43.59L10.3 9.45l-7.72 7.72c-.78.78-.78 2.05 0 2.83L4 21.41c.39.39.9.59 1.41.59.51 0 1.02-.2 1.41-.59l7.78-7.78 2.81-2.81c.8-.78.8-2.07 0-2.86zM5.41 20L4 18.59l7.72-7.72 1.47 1.35L5.41 20z\"/>\n",
              "  </svg>\n",
              "      </button>\n",
              "      \n",
              "  <style>\n",
              "    .colab-df-container {\n",
              "      display:flex;\n",
              "      flex-wrap:wrap;\n",
              "      gap: 12px;\n",
              "    }\n",
              "\n",
              "    .colab-df-convert {\n",
              "      background-color: #E8F0FE;\n",
              "      border: none;\n",
              "      border-radius: 50%;\n",
              "      cursor: pointer;\n",
              "      display: none;\n",
              "      fill: #1967D2;\n",
              "      height: 32px;\n",
              "      padding: 0 0 0 0;\n",
              "      width: 32px;\n",
              "    }\n",
              "\n",
              "    .colab-df-convert:hover {\n",
              "      background-color: #E2EBFA;\n",
              "      box-shadow: 0px 1px 2px rgba(60, 64, 67, 0.3), 0px 1px 3px 1px rgba(60, 64, 67, 0.15);\n",
              "      fill: #174EA6;\n",
              "    }\n",
              "\n",
              "    [theme=dark] .colab-df-convert {\n",
              "      background-color: #3B4455;\n",
              "      fill: #D2E3FC;\n",
              "    }\n",
              "\n",
              "    [theme=dark] .colab-df-convert:hover {\n",
              "      background-color: #434B5C;\n",
              "      box-shadow: 0px 1px 3px 1px rgba(0, 0, 0, 0.15);\n",
              "      filter: drop-shadow(0px 1px 2px rgba(0, 0, 0, 0.3));\n",
              "      fill: #FFFFFF;\n",
              "    }\n",
              "  </style>\n",
              "\n",
              "      <script>\n",
              "        const buttonEl =\n",
              "          document.querySelector('#df-f372d2bc-c86d-4789-bd82-b5742b6d8533 button.colab-df-convert');\n",
              "        buttonEl.style.display =\n",
              "          google.colab.kernel.accessAllowed ? 'block' : 'none';\n",
              "\n",
              "        async function convertToInteractive(key) {\n",
              "          const element = document.querySelector('#df-f372d2bc-c86d-4789-bd82-b5742b6d8533');\n",
              "          const dataTable =\n",
              "            await google.colab.kernel.invokeFunction('convertToInteractive',\n",
              "                                                     [key], {});\n",
              "          if (!dataTable) return;\n",
              "\n",
              "          const docLinkHtml = 'Like what you see? Visit the ' +\n",
              "            '<a target=\"_blank\" href=https://colab.research.google.com/notebooks/data_table.ipynb>data table notebook</a>'\n",
              "            + ' to learn more about interactive tables.';\n",
              "          element.innerHTML = '';\n",
              "          dataTable['output_type'] = 'display_data';\n",
              "          await google.colab.output.renderOutput(dataTable, element);\n",
              "          const docLink = document.createElement('div');\n",
              "          docLink.innerHTML = docLinkHtml;\n",
              "          element.appendChild(docLink);\n",
              "        }\n",
              "      </script>\n",
              "    </div>\n",
              "  </div>\n",
              "  "
            ]
          },
          "metadata": {},
          "execution_count": 11
        }
      ]
    },
    {
      "cell_type": "code",
      "source": [
        "### first column of the sheet number1 (seocnd sheet)\n",
        "\n",
        "(sheet[0][sheet[0].columns[0]])"
      ],
      "metadata": {
        "colab": {
          "base_uri": "https://localhost:8080/"
        },
        "id": "BowkrZur-O40",
        "outputId": "1d90ca96-a04c-4207-c40e-d139ad0f224f"
      },
      "execution_count": 12,
      "outputs": [
        {
          "output_type": "execute_result",
          "data": {
            "text/plain": [
              "0        20080107X00026\n",
              "1        20080107X00026\n",
              "2        20080107X00027\n",
              "3        20080109X00036\n",
              "4        20080114X00044\n",
              "              ...      \n",
              "15904    20220919105969\n",
              "15905    20220923105991\n",
              "15906    20220926106000\n",
              "15907    20220928106010\n",
              "15908    20220928106016\n",
              "Name: ev_id, Length: 15909, dtype: object"
            ]
          },
          "metadata": {},
          "execution_count": 12
        }
      ]
    },
    {
      "cell_type": "code",
      "source": [
        "# removing douplicate events in which more than one aircraft are involved:\n",
        "ev_id_new1=[]\n",
        "for itm in sheet[0][sheet[0].columns[0]]:\n",
        "  if itm not in ev_id_new1:\n",
        "    ev_id_new1.append(itm)"
      ],
      "metadata": {
        "id": "4hc8Riyf_fMd"
      },
      "execution_count": 13,
      "outputs": []
    },
    {
      "cell_type": "code",
      "source": [
        "len(ev_id_new1)"
      ],
      "metadata": {
        "colab": {
          "base_uri": "https://localhost:8080/"
        },
        "id": "fIaa2CsRArvX",
        "outputId": "ea7d441a-1c78-4d6f-dae6-53654928921b"
      },
      "execution_count": 14,
      "outputs": [
        {
          "output_type": "execute_result",
          "data": {
            "text/plain": [
              "15743"
            ]
          },
          "metadata": {},
          "execution_count": 14
        }
      ]
    },
    {
      "cell_type": "code",
      "source": [
        "sheet[1].columns"
      ],
      "metadata": {
        "colab": {
          "base_uri": "https://localhost:8080/"
        },
        "id": "UrEBgqswBUGG",
        "outputId": "4211bd96-8c46-4e73-e278-a39a972781b5"
      },
      "execution_count": 15,
      "outputs": [
        {
          "output_type": "execute_result",
          "data": {
            "text/plain": [
              "Index(['ev_id', 'ev_type', 'ev_city', 'ev_state', 'ev_country', 'ev_year',\n",
              "       'ev_month', 'apt_name', 'ev_nr_apt_id', 'apt_dist',\n",
              "       'ev_highest_injury'],\n",
              "      dtype='object')"
            ]
          },
          "metadata": {},
          "execution_count": 15
        }
      ]
    },
    {
      "cell_type": "code",
      "source": [
        "sheet[1][sheet[1].columns[0]][0] #event ids from the EVENTS sheet"
      ],
      "metadata": {
        "colab": {
          "base_uri": "https://localhost:8080/",
          "height": 35
        },
        "id": "kn078qfBBde5",
        "outputId": "d75687aa-50e2-4dce-959a-20a03e746f21"
      },
      "execution_count": 16,
      "outputs": [
        {
          "output_type": "execute_result",
          "data": {
            "text/plain": [
              "'20090101X22627'"
            ],
            "application/vnd.google.colaboratory.intrinsic+json": {
              "type": "string"
            }
          },
          "metadata": {},
          "execution_count": 16
        }
      ]
    },
    {
      "cell_type": "code",
      "source": [
        "ev_id_new2=[]\n",
        "for itm in sheet[1][sheet[1].columns[0]]:\n",
        "  if itm not in ev_id_new2:\n",
        "    ev_id_new2.append(itm)"
      ],
      "metadata": {
        "id": "Vs-hbHl0DxIU"
      },
      "execution_count": 17,
      "outputs": []
    },
    {
      "cell_type": "code",
      "source": [
        "len(ev_id_new2)"
      ],
      "metadata": {
        "colab": {
          "base_uri": "https://localhost:8080/"
        },
        "id": "OW1syeAbD3z7",
        "outputId": "969349b3-592e-4778-ba4f-ab6d7ec1deb8"
      },
      "execution_count": 18,
      "outputs": [
        {
          "output_type": "execute_result",
          "data": {
            "text/plain": [
              "22798"
            ]
          },
          "metadata": {},
          "execution_count": 18
        }
      ]
    },
    {
      "cell_type": "code",
      "source": [
        "ev_id_new12=[] # it is the events which possess all the criteria! :) Of course, its length is smaller than all othe others!\n",
        "for itm in (ev_id_new1):\n",
        "  if itm in (ev_id_new2):\n",
        "    ev_id_new12.append(itm)\n",
        "len(ev_id_new1),len(ev_id_new2),len(ev_id_new12)"
      ],
      "metadata": {
        "colab": {
          "base_uri": "https://localhost:8080/"
        },
        "id": "CZKKTp5QAuAy",
        "outputId": "b0dd9bdd-9e4d-4f83-8234-a69ab2026ac8"
      },
      "execution_count": 19,
      "outputs": [
        {
          "output_type": "execute_result",
          "data": {
            "text/plain": [
              "(15743, 22798, 14456)"
            ]
          },
          "metadata": {},
          "execution_count": 19
        }
      ]
    },
    {
      "cell_type": "code",
      "source": [
        "aircraft_key_clmn=(sheet[0][sheet[0].columns[1]])\n",
        "ev_id_aircraft=(sheet[0][sheet[0].columns[0]])\n",
        "ev_id_new3=[]\n",
        "for idx, itm in enumerate (aircraft_key_clmn):\n",
        "  if (itm!=1):\n",
        "    ev_id_new3.append(ev_id_aircraft[idx]) #The acicdents in which more than one aircraft is involved!!! [2,3,4...]\n",
        "\n",
        "len(ev_id_new3)"
      ],
      "metadata": {
        "colab": {
          "base_uri": "https://localhost:8080/"
        },
        "id": "pHGPKkxVqZyH",
        "outputId": "1c52a3e2-dcc8-4e91-928a-bb4ad0b36de8"
      },
      "execution_count": 20,
      "outputs": [
        {
          "output_type": "execute_result",
          "data": {
            "text/plain": [
              "196"
            ]
          },
          "metadata": {},
          "execution_count": 20
        }
      ]
    },
    {
      "cell_type": "code",
      "source": [
        "ev_id_new=[]\n",
        "for itm in ev_id_new12:\n",
        "  if itm not in ev_id_new3:\n",
        "    ev_id_new.append(itm)\n",
        "# ev_id_new=ev_id_new-ev_id_new3\n"
      ],
      "metadata": {
        "id": "66KmavI0tTK8"
      },
      "execution_count": 21,
      "outputs": []
    },
    {
      "cell_type": "code",
      "source": [
        "targets=['ev_id_new']"
      ],
      "metadata": {
        "id": "ZeSn4HhtlxuS"
      },
      "execution_count": 22,
      "outputs": []
    },
    {
      "cell_type": "code",
      "source": [
        "len(ev_id_new)"
      ],
      "metadata": {
        "colab": {
          "base_uri": "https://localhost:8080/"
        },
        "id": "uxs30Lgiv2xy",
        "outputId": "68b5bda7-600f-4fbe-cb53-e153f04765c0"
      },
      "execution_count": 23,
      "outputs": [
        {
          "output_type": "execute_result",
          "data": {
            "text/plain": [
              "14282"
            ]
          },
          "metadata": {},
          "execution_count": 23
        }
      ]
    },
    {
      "cell_type": "code",
      "source": [
        "\n",
        "damage_new=[]\n",
        "damage_clmn=list(sheet[0][sheet[0].columns[3]])\n",
        "aircraft_key_clmn=list(sheet[0][sheet[0].columns[1]])\n",
        "ev_id_aircraft=list(sheet[0][sheet[0].columns[0]])\n",
        "\n",
        "# for itm in enumerate (damage_clmn):\n",
        "# damage_clmn.fillna(0)\n",
        "k=0\n",
        "for idx , itm in enumerate (damage_clmn):\n",
        "  if ev_id_aircraft[idx] in ev_id_new:\n",
        "    damage_new.append(itm)\n",
        "    if aircraft_key_clmn[idx]!=1:\n",
        "      print(\"Checking Point: Hey! Something is wrong in the filtering process!\")\n",
        "      k=k+1\n",
        "if k==0: #Checking step...\n",
        "  print(\"Checking Point: Good job with the filtering process till now! :)\")\n",
        "  # print((itm))\n",
        "    # involve=aircraft_key_clmn[idx]\n",
        "    # if (involve==1):\n",
        "    #   damage_new.append(itm)\n",
        "    #   num=num+1\n",
        "    # elif(involve==2):\n",
        "    #   damage_new[num-1].append(itm)\n",
        "    # #   damage_new[idx-1].append(itm)\n",
        "    # elif(involve==3):\n",
        "    #   damage_new[num-1].append(itm)\n",
        "    # else:\n",
        "    #   print(\"Did you know we even have accidents with 4 and more aircraft involved?!\")\n",
        "\n"
      ],
      "metadata": {
        "colab": {
          "base_uri": "https://localhost:8080/"
        },
        "id": "_GLzu0ytJMP_",
        "outputId": "fda2f328-d7c0-4962-d3f6-7080b937f0eb"
      },
      "execution_count": 24,
      "outputs": [
        {
          "output_type": "stream",
          "name": "stdout",
          "text": [
            "Checking Point: Good job with the filtering process till now! :)\n"
          ]
        }
      ]
    },
    {
      "cell_type": "code",
      "source": [
        "targets=targets+['damage_new']\n"
      ],
      "metadata": {
        "id": "pQmTIqoil5tN"
      },
      "execution_count": 25,
      "outputs": []
    },
    {
      "cell_type": "markdown",
      "source": [
        "An important here about the filtering process is that we cannot just filter those cases with aircraft_key=1; cause key=2,3... are coming after that sometimes!"
      ],
      "metadata": {
        "id": "N1AnJdB724HF"
      }
    },
    {
      "cell_type": "code",
      "source": [
        "damage_new[0]"
      ],
      "metadata": {
        "colab": {
          "base_uri": "https://localhost:8080/",
          "height": 35
        },
        "id": "O11kof_43oH_",
        "outputId": "d21ae1f2-9bca-4876-aae0-d055c1fc2514"
      },
      "execution_count": 26,
      "outputs": [
        {
          "output_type": "execute_result",
          "data": {
            "text/plain": [
              "'SUBS'"
            ],
            "application/vnd.google.colaboratory.intrinsic+json": {
              "type": "string"
            }
          },
          "metadata": {},
          "execution_count": 26
        }
      ]
    },
    {
      "cell_type": "code",
      "source": [
        "ev_id_new[0]"
      ],
      "metadata": {
        "colab": {
          "base_uri": "https://localhost:8080/",
          "height": 35
        },
        "id": "-0Jl8_Vx3pzg",
        "outputId": "cb8548bb-dfad-4fec-eee8-766216f97849"
      },
      "execution_count": 27,
      "outputs": [
        {
          "output_type": "execute_result",
          "data": {
            "text/plain": [
              "'20090101X22627'"
            ],
            "application/vnd.google.colaboratory.intrinsic+json": {
              "type": "string"
            }
          },
          "metadata": {},
          "execution_count": 27
        }
      ]
    },
    {
      "cell_type": "code",
      "source": [
        "evtype_new=[]\n",
        "evtype_clmn=list(sheet[1][sheet[1].columns[1]])\n",
        "ev_id_aircraft=list(sheet[1][sheet[1].columns[0]])\n",
        "\n",
        "# for itm in enumerate (damage_clmn):\n",
        "# damage_clmn.fillna(0)\n",
        "for idx , itm in enumerate (evtype_clmn):\n",
        "  if ev_id_aircraft[idx] in ev_id_new:\n",
        "    evtype_new.append(itm)"
      ],
      "metadata": {
        "id": "GFT-TOHW3_s_"
      },
      "execution_count": 28,
      "outputs": []
    },
    {
      "cell_type": "code",
      "source": [
        "targets+=['evtype_new']\n",
        "targets"
      ],
      "metadata": {
        "colab": {
          "base_uri": "https://localhost:8080/"
        },
        "id": "rty7JDcXmTpk",
        "outputId": "eb449bc2-adf7-44d9-8012-645cd4f9c9d0"
      },
      "execution_count": 29,
      "outputs": [
        {
          "output_type": "execute_result",
          "data": {
            "text/plain": [
              "['ev_id_new', 'damage_new', 'evtype_new']"
            ]
          },
          "metadata": {},
          "execution_count": 29
        }
      ]
    },
    {
      "cell_type": "code",
      "source": [
        "len(evtype_new)"
      ],
      "metadata": {
        "colab": {
          "base_uri": "https://localhost:8080/"
        },
        "id": "AY-Qy0MG4yIe",
        "outputId": "3026c8b1-f41f-4027-88af-6172295d1bde"
      },
      "execution_count": 30,
      "outputs": [
        {
          "output_type": "execute_result",
          "data": {
            "text/plain": [
              "14282"
            ]
          },
          "metadata": {},
          "execution_count": 30
        }
      ]
    },
    {
      "cell_type": "code",
      "source": [
        "year_new=[]\n",
        "year_clmn=list(sheet[1][sheet[1].columns[5]])\n",
        "ev_id_aircraft=list(sheet[1][sheet[1].columns[0]])\n",
        "\n",
        "# for itm in enumerate (damage_clmn):\n",
        "# damage_clmn.fillna(0)\n",
        "for idx , itm in enumerate (year_clmn):\n",
        "  if ev_id_aircraft[idx] in ev_id_new:\n",
        "    year_new.append(itm)"
      ],
      "metadata": {
        "id": "bb66HbuI4034"
      },
      "execution_count": 31,
      "outputs": []
    },
    {
      "cell_type": "code",
      "source": [
        "targets+=[\"year_new\"]\n",
        "targets"
      ],
      "metadata": {
        "colab": {
          "base_uri": "https://localhost:8080/"
        },
        "id": "07FtrN53mpyy",
        "outputId": "5ab63c1e-93c6-4710-895e-9c5589471de8"
      },
      "execution_count": 32,
      "outputs": [
        {
          "output_type": "execute_result",
          "data": {
            "text/plain": [
              "['ev_id_new', 'damage_new', 'evtype_new', 'year_new']"
            ]
          },
          "metadata": {},
          "execution_count": 32
        }
      ]
    },
    {
      "cell_type": "code",
      "source": [
        "len(year_new)"
      ],
      "metadata": {
        "colab": {
          "base_uri": "https://localhost:8080/"
        },
        "id": "kLWgsE2u57Hu",
        "outputId": "356df8ee-0525-451c-c961-420667754b7e"
      },
      "execution_count": 33,
      "outputs": [
        {
          "output_type": "execute_result",
          "data": {
            "text/plain": [
              "14282"
            ]
          },
          "metadata": {},
          "execution_count": 33
        }
      ]
    },
    {
      "cell_type": "code",
      "source": [
        "\n",
        "\n",
        "fatal_new=[]\n",
        "ev_highest_injury_clmn=list(sheet[1][sheet[1].columns[-1]])\n",
        "ev_id_aircraft=list(sheet[1][sheet[1].columns[0]])\n",
        "\n",
        "# for itm in enumerate (damage_clmn):\n",
        "# damage_clmn.fillna(0)\n",
        "for idx , itm in enumerate (ev_highest_injury_clmn):\n",
        "  if ev_id_aircraft[idx] in ev_id_new:\n",
        "    fatal_new.append(itm)"
      ],
      "metadata": {
        "id": "IhesR9-a599U"
      },
      "execution_count": 34,
      "outputs": []
    },
    {
      "cell_type": "code",
      "source": [
        "targets+=['fatal_new']\n",
        "targets"
      ],
      "metadata": {
        "colab": {
          "base_uri": "https://localhost:8080/"
        },
        "id": "mVJM6pYam6ph",
        "outputId": "4664e06f-f062-4a62-fea4-efe4e39a5c9a"
      },
      "execution_count": 35,
      "outputs": [
        {
          "output_type": "execute_result",
          "data": {
            "text/plain": [
              "['ev_id_new', 'damage_new', 'evtype_new', 'year_new', 'fatal_new']"
            ]
          },
          "metadata": {},
          "execution_count": 35
        }
      ]
    },
    {
      "cell_type": "code",
      "source": [
        "len(fatal_new)"
      ],
      "metadata": {
        "colab": {
          "base_uri": "https://localhost:8080/"
        },
        "id": "8ipBEmWu6cPv",
        "outputId": "b0c02a19-2ddb-4240-84b1-65fc910ae64e"
      },
      "execution_count": 36,
      "outputs": [
        {
          "output_type": "execute_result",
          "data": {
            "text/plain": [
              "14282"
            ]
          },
          "metadata": {},
          "execution_count": 36
        }
      ]
    },
    {
      "cell_type": "markdown",
      "source": [
        "One important point that I learnt: I had no idea how much the preporcessing step would take time!"
      ],
      "metadata": {
        "id": "N6rudkZXrhHp"
      }
    },
    {
      "cell_type": "markdown",
      "source": [
        "CONVERTING TO LIST!!!"
      ],
      "metadata": {
        "id": "NKmzgUL_CJ3b"
      }
    },
    {
      "cell_type": "code",
      "source": [],
      "metadata": {
        "id": "tnIhc6Nw-zP7"
      },
      "execution_count": 36,
      "outputs": []
    },
    {
      "cell_type": "code",
      "source": [
        "\n",
        "finding_no_new=[]\n",
        "finding_rnew=[] \n",
        "finding_no_clmn=list(sheet[2][sheet[2].columns[2]])\n",
        "finding_description_clmn=list(sheet[2][sheet[2].columns[4]])\n",
        "ev_id_aircraft=list(sheet[2][sheet[2].columns[0]])\n",
        "\n",
        "i=0\n",
        "j=0\n",
        "k=0\n",
        "evprobw2=[]\n",
        "evprobw3=[]\n",
        "evprobw4=[]\n",
        "# for idx , itm in enumerate (finding_description_clmn):\n",
        "#   if ev_id_aircraft[idx] in ev_id_new:\n",
        "#     finding_new.append(itm)\n",
        "#     finding_no_new.append(finding_no_clmn[idx])\n",
        "\n",
        "print(len(finding_no_clmn),len(finding_description_clmn),len(ev_id_aircraft))\n",
        "\n",
        "for idx , itm in enumerate (finding_no_clmn):\n",
        "  if ev_id_aircraft[idx] in ev_id_new:\n",
        "\n",
        "    if (itm==1):\n",
        "      finding_rnew.append(finding_description_clmn[idx])\n",
        "      finding_no_new.append(itm)\n",
        "    elif (itm==2 & finding_no_clmn[idx-1]!=1):\n",
        "      evprobw2.append(ev_id_aircraft[idx])\n",
        "      i=i+1\n",
        "    elif (itm==3 & finding_no_clmn[idx-1]!=2):\n",
        "      evprobw3.append(ev_id_aircraft[idx])\n",
        "      j=j+1\n",
        "    elif (itm==4 & finding_no_clmn[idx-1]!=3):\n",
        "      evprobw4.append(ev_id_aircraft[idx])\n",
        "      k=k+1\n",
        "if i>0:\n",
        "  print(\"WHAT A MESS!!! We have\",len(evprobw2),\"cases in which numbers did begin from number 2 rather than 1!\")\n",
        "if j>0:\n",
        "  print(\"WHAT A MESS!!! We have\",len(evprobw3),\"cases in which numbers did begin from number 3 rather than 1!\")\n",
        "if k>0:\n",
        "  print(len(evprobw4),\"more cases! JUST UNBELIEABLE!!! That's it... I cannot rely on this column; just consider a new approach!\")\n",
        "    # if (itm==2):\n",
        "    #   finding_new[idx-1].extend(finding_description_clmn[idx])\n",
        "    #   finding_no_new[idx-1].extend(itm)\n",
        "\n"
      ],
      "metadata": {
        "id": "iHJs_wMP6fa3",
        "colab": {
          "base_uri": "https://localhost:8080/"
        },
        "outputId": "24d4c87e-b17e-4497-bff0-b787090da74d"
      },
      "execution_count": 37,
      "outputs": [
        {
          "output_type": "stream",
          "name": "stdout",
          "text": [
            "58862 58862 58862\n",
            "WHAT A MESS!!! We have 163 cases in which numbers did begin from number 2 rather than 1!\n",
            "WHAT A MESS!!! We have 28 cases in which numbers did begin from number 3 rather than 1!\n",
            "7 more cases! JUST UNBELIEABLE!!! That's it... I cannot rely on this column; just consider a new approach!\n"
          ]
        }
      ]
    },
    {
      "cell_type": "code",
      "source": [
        "a=[['a'],['b'],['c'],['d']]\n",
        "i=0\n",
        "for  ind, itm in enumerate (a):\n",
        "  print(itm)\n",
        "  if itm==['b']:\n",
        "    itm.extend(['k'])\n",
        "  # else:\n",
        "  #   a.append(i)\n",
        "  #   print(i)\n",
        "  #   i=i+1\n",
        "\n",
        "a"
      ],
      "metadata": {
        "colab": {
          "base_uri": "https://localhost:8080/"
        },
        "id": "CtSRMxBw3Z47",
        "outputId": "bdd3b5b2-4b1c-4037-da7a-73d0bc8a3c5d"
      },
      "execution_count": 38,
      "outputs": [
        {
          "output_type": "stream",
          "name": "stdout",
          "text": [
            "['a']\n",
            "['b']\n",
            "['c']\n",
            "['d']\n"
          ]
        },
        {
          "output_type": "execute_result",
          "data": {
            "text/plain": [
              "[['a'], ['b', 'k'], ['c'], ['d']]"
            ]
          },
          "metadata": {},
          "execution_count": 38
        }
      ]
    },
    {
      "cell_type": "code",
      "source": [
        "\n",
        "# finding_no_new=[]\n",
        "finding_rpt=[] #having repetitive ev_id\n",
        "ev_id_rpt=[] #having repetitive ev_id\n",
        "\n",
        "# finding_no_clmn=list(sheet[2][sheet[2].columns[2]])\n",
        "finding_description_clmn=list(sheet[2][sheet[2].columns[4]])\n",
        "ev_id_aircraft=list(sheet[2][sheet[2].columns[0]])\n",
        "print(len(finding_description_clmn),len(ev_id_aircraft))\n",
        "# findings_total=0\n",
        "# finding_new=finding_description_clmn\n",
        "\n",
        "for idx , itm in enumerate(ev_id_aircraft):\n",
        "  if itm  in ev_id_new:\n",
        "    ev_id_rpt.append(itm) ### SO the repetitive list just contains those whuch are first filtered to be in our desired ev_ids, BUT NO! because it is updated. So , needed to be checked again!!!!\n",
        "\n",
        "    # print(idx)\n",
        "    finding_rpt.append(finding_description_clmn[idx])\n",
        "\n",
        "\n",
        "\n"
      ],
      "metadata": {
        "colab": {
          "base_uri": "https://localhost:8080/"
        },
        "id": "IvSX39WTNPpA",
        "outputId": "4f9a9b20-e904-4eb5-b16c-1e01da6ffd67"
      },
      "execution_count": 39,
      "outputs": [
        {
          "output_type": "stream",
          "name": "stdout",
          "text": [
            "58862 58862\n"
          ]
        }
      ]
    },
    {
      "cell_type": "code",
      "source": [
        "len(ev_id_rpt),len(finding_rpt)"
      ],
      "metadata": {
        "colab": {
          "base_uri": "https://localhost:8080/"
        },
        "id": "77nMiQrybjTA",
        "outputId": "b12793b8-7b6a-4482-b967-1f7ef6c6290f"
      },
      "execution_count": 40,
      "outputs": [
        {
          "output_type": "execute_result",
          "data": {
            "text/plain": [
              "(40656, 40656)"
            ]
          },
          "metadata": {},
          "execution_count": 40
        }
      ]
    },
    {
      "cell_type": "code",
      "source": [
        "finding_new=[]\n",
        "ev_id_check=[]\n",
        "for idx, itm in enumerate(ev_id_rpt):\n",
        "  if (itm!=ev_id_rpt[idx-1]):\n",
        "    ev_id_check.append(itm)\n",
        "  # else:\n",
        "  #   finding_new.extend(finding_rpt[idx])"
      ],
      "metadata": {
        "id": "WX27Hhu-bpYo"
      },
      "execution_count": 41,
      "outputs": []
    },
    {
      "cell_type": "code",
      "source": [
        "len(ev_id_check)"
      ],
      "metadata": {
        "colab": {
          "base_uri": "https://localhost:8080/"
        },
        "id": "1T3Z6afZcame",
        "outputId": "ce79997e-5ac9-4b22-e543-8f10f2ca1ffe"
      },
      "execution_count": 42,
      "outputs": [
        {
          "output_type": "execute_result",
          "data": {
            "text/plain": [
              "13287"
            ]
          },
          "metadata": {},
          "execution_count": 42
        }
      ]
    },
    {
      "cell_type": "code",
      "source": [
        "ev_id_error=[]\n",
        "for idx, itm in enumerate (ev_id_new):\n",
        "  if itm not in ev_id_check:\n",
        "    ev_id_error.append(itm)\n",
        "\n",
        "print(\"There are\",len(ev_id_error),\"accidents left withour any findings mentioned!\")\n",
        "print(\"By this, I do not mean their findings are NaN or Black etc., Their EVENT_IDs are not EVEN mentioned in the rows!!! I know... :|\")"
      ],
      "metadata": {
        "colab": {
          "base_uri": "https://localhost:8080/"
        },
        "id": "duGnuLtydL6c",
        "outputId": "99d15164-1ab2-4250-e16f-c5bd8a6e397a"
      },
      "execution_count": 43,
      "outputs": [
        {
          "output_type": "stream",
          "name": "stdout",
          "text": [
            "There are 995 accidents left withour any findings mentioned!\n",
            "By this, I do not mean their findings are NaN or Black etc., Their EVENT_IDs are not EVEN mentioned in the rows!!! I know... :|\n"
          ]
        }
      ]
    },
    {
      "cell_type": "code",
      "source": [
        "995+13287"
      ],
      "metadata": {
        "colab": {
          "base_uri": "https://localhost:8080/"
        },
        "id": "xeIioZKYdc_8",
        "outputId": "db8047c5-debd-4910-e1ff-7f12c9272e2a"
      },
      "execution_count": 44,
      "outputs": [
        {
          "output_type": "execute_result",
          "data": {
            "text/plain": [
              "14282"
            ]
          },
          "metadata": {},
          "execution_count": 44
        }
      ]
    },
    {
      "cell_type": "markdown",
      "source": [
        "HERE, I found something really painful... Not all the accidents possess findings belong to them!"
      ],
      "metadata": {
        "id": "WtTIafadj6to"
      }
    },
    {
      "cell_type": "code",
      "source": [
        "ev_id_error[4]"
      ],
      "metadata": {
        "colab": {
          "base_uri": "https://localhost:8080/",
          "height": 35
        },
        "id": "ZvHJtU7cdhdv",
        "outputId": "120cc0c1-49da-44c1-aed0-30dc7e5c5c9d"
      },
      "execution_count": 45,
      "outputs": [
        {
          "output_type": "execute_result",
          "data": {
            "text/plain": [
              "'20100428X55752'"
            ],
            "application/vnd.google.colaboratory.intrinsic+json": {
              "type": "string"
            }
          },
          "metadata": {},
          "execution_count": 45
        }
      ]
    },
    {
      "cell_type": "code",
      "source": [
        "targets"
      ],
      "metadata": {
        "colab": {
          "base_uri": "https://localhost:8080/"
        },
        "id": "xeJFtdCJncBg",
        "outputId": "a540e6c8-3053-4484-9b4b-7752c96f2aad"
      },
      "execution_count": 46,
      "outputs": [
        {
          "output_type": "execute_result",
          "data": {
            "text/plain": [
              "['ev_id_new', 'damage_new', 'evtype_new', 'year_new', 'fatal_new']"
            ]
          },
          "metadata": {},
          "execution_count": 46
        }
      ]
    },
    {
      "cell_type": "code",
      "source": [
        "len(ev_id_new),len(damage_new),len(evtype_new),len(year_new),len(fatal_new)"
      ],
      "metadata": {
        "colab": {
          "base_uri": "https://localhost:8080/"
        },
        "id": "qePhmadSoDrX",
        "outputId": "ee855c62-685e-4370-f5e2-a0ab8177ea0c"
      },
      "execution_count": 47,
      "outputs": [
        {
          "output_type": "execute_result",
          "data": {
            "text/plain": [
              "(14282, 14282, 14282, 14282, 14282)"
            ]
          },
          "metadata": {},
          "execution_count": 47
        }
      ]
    },
    {
      "cell_type": "code",
      "source": [
        "for idx, itm in enumerate (ev_id_new):\n",
        "  if itm in ev_id_error:\n",
        "    ev_id_new.remove(itm)\n",
        "    damage_new.remove(damage_new[idx])\n",
        "    evtype_new.remove(evtype_new[idx])\n",
        "    year_new.remove(year_new[idx])\n",
        "    fatal_new.remove(fatal_new[idx])"
      ],
      "metadata": {
        "id": "F7j7EztKlSR1"
      },
      "execution_count": 48,
      "outputs": []
    },
    {
      "cell_type": "code",
      "source": [
        "len(ev_id_error)"
      ],
      "metadata": {
        "colab": {
          "base_uri": "https://localhost:8080/"
        },
        "id": "pU9-r6mDAR47",
        "outputId": "fcde3719-ae6b-4474-c06b-f2e6fca684a6"
      },
      "execution_count": 49,
      "outputs": [
        {
          "output_type": "execute_result",
          "data": {
            "text/plain": [
              "995"
            ]
          },
          "metadata": {},
          "execution_count": 49
        }
      ]
    },
    {
      "cell_type": "code",
      "source": [
        "14282-995"
      ],
      "metadata": {
        "colab": {
          "base_uri": "https://localhost:8080/"
        },
        "id": "eqCDxsf1AU5-",
        "outputId": "676fa579-468c-4d04-e4cf-f106cf6e5170"
      },
      "execution_count": 50,
      "outputs": [
        {
          "output_type": "execute_result",
          "data": {
            "text/plain": [
              "13287"
            ]
          },
          "metadata": {},
          "execution_count": 50
        }
      ]
    },
    {
      "cell_type": "code",
      "source": [
        "for idx, itm in enumerate (ev_id_new):\n",
        "  if itm not in (ev_id_check):\n",
        "    ev_id_new.remove(ev_id_new[idx])\n",
        "    damage_new.remove(damage_new[idx])\n",
        "    evtype_new.remove(evtype_new[idx])\n",
        "    year_new.remove(year_new[idx])\n",
        "    fatal_new.remove(fatal_new[idx])"
      ],
      "metadata": {
        "id": "PSSWSv_o8key"
      },
      "execution_count": 51,
      "outputs": []
    },
    {
      "cell_type": "code",
      "source": [
        "len(ev_id_new),len(damage_new),len(evtype_new),len(year_new),len(fatal_new)"
      ],
      "metadata": {
        "colab": {
          "base_uri": "https://localhost:8080/"
        },
        "id": "0HZztpm3ocSP",
        "outputId": "941956fe-f196-4ec0-b09b-909c8da24b75"
      },
      "execution_count": 52,
      "outputs": [
        {
          "output_type": "execute_result",
          "data": {
            "text/plain": [
              "(13383, 13383, 13383, 13383, 13383)"
            ]
          },
          "metadata": {},
          "execution_count": 52
        }
      ]
    },
    {
      "cell_type": "code",
      "source": [
        "for idx, itm in enumerate (ev_id_new):\n",
        "  if itm not in (ev_id_rpt):\n",
        "    ev_id_new.remove(ev_id_new[idx])\n",
        "    damage_new.remove(damage_new[idx])\n",
        "    evtype_new.remove(evtype_new[idx])\n",
        "    year_new.remove(year_new[idx])\n",
        "    fatal_new.remove(fatal_new[idx])"
      ],
      "metadata": {
        "id": "VlCzRHDeBM7g"
      },
      "execution_count": 53,
      "outputs": []
    },
    {
      "cell_type": "code",
      "source": [
        "len(ev_id_new),len(damage_new),len(evtype_new),len(year_new),len(fatal_new)"
      ],
      "metadata": {
        "colab": {
          "base_uri": "https://localhost:8080/"
        },
        "id": "nkvvKp7cBQun",
        "outputId": "0aa7cb59-6b7a-47d1-be75-44cd5e656232"
      },
      "execution_count": 54,
      "outputs": [
        {
          "output_type": "execute_result",
          "data": {
            "text/plain": [
              "(13311, 13311, 13311, 13311, 13311)"
            ]
          },
          "metadata": {},
          "execution_count": 54
        }
      ]
    },
    {
      "cell_type": "code",
      "source": [
        "i=0\n",
        "for idx, itm in enumerate (ev_id_rpt):\n",
        "  if itm not in ev_id_new:\n",
        "    print(\"NOT AGAIN!!!\")\n",
        "    i+=1\n",
        "if (i==0):\n",
        "  print(\"Great! It is checked! All the repetitive items in the list belong to the filtered list as well!\")"
      ],
      "metadata": {
        "colab": {
          "base_uri": "https://localhost:8080/"
        },
        "id": "uZAtM1kmo7Zr",
        "outputId": "486bce1f-26c3-4a93-a696-4309af5af585"
      },
      "execution_count": 55,
      "outputs": [
        {
          "output_type": "stream",
          "name": "stdout",
          "text": [
            "Great! It is checked! All the repetitive items in the list belong to the filtered list as well!\n"
          ]
        }
      ]
    },
    {
      "cell_type": "code",
      "source": [
        "i=0\n",
        "for idx, itm in enumerate (ev_id_new):\n",
        "  if itm not in (ev_id_rpt):\n",
        "    print(\"NOT AGAIN!!!\")\n",
        "    i+=1\n",
        "if (i==0):\n",
        "  print(\"Great! It is checked! All the repetitive items in the list belong to the filtered list as well!\")"
      ],
      "metadata": {
        "colab": {
          "base_uri": "https://localhost:8080/"
        },
        "id": "R5UmbxaU7slc",
        "outputId": "e502c37b-38fe-40ea-9c03-bb731a28f7c2"
      },
      "execution_count": 56,
      "outputs": [
        {
          "output_type": "stream",
          "name": "stdout",
          "text": [
            "NOT AGAIN!!!\n",
            "NOT AGAIN!!!\n",
            "NOT AGAIN!!!\n",
            "NOT AGAIN!!!\n",
            "NOT AGAIN!!!\n",
            "NOT AGAIN!!!\n",
            "NOT AGAIN!!!\n",
            "NOT AGAIN!!!\n",
            "NOT AGAIN!!!\n",
            "NOT AGAIN!!!\n",
            "NOT AGAIN!!!\n",
            "NOT AGAIN!!!\n",
            "NOT AGAIN!!!\n",
            "NOT AGAIN!!!\n",
            "NOT AGAIN!!!\n",
            "NOT AGAIN!!!\n",
            "NOT AGAIN!!!\n",
            "NOT AGAIN!!!\n",
            "NOT AGAIN!!!\n",
            "NOT AGAIN!!!\n",
            "NOT AGAIN!!!\n",
            "NOT AGAIN!!!\n",
            "NOT AGAIN!!!\n",
            "NOT AGAIN!!!\n"
          ]
        }
      ]
    },
    {
      "cell_type": "code",
      "source": [
        "i"
      ],
      "metadata": {
        "colab": {
          "base_uri": "https://localhost:8080/"
        },
        "id": "yXJWgurq9Zhb",
        "outputId": "250f0007-e63a-4f39-ddf1-984224ad5729"
      },
      "execution_count": 57,
      "outputs": [
        {
          "output_type": "execute_result",
          "data": {
            "text/plain": [
              "24"
            ]
          },
          "metadata": {},
          "execution_count": 57
        }
      ]
    },
    {
      "cell_type": "code",
      "source": [
        "for idx, itm in enumerate (ev_id_new):\n",
        "  if itm not in (ev_id_rpt):\n",
        "    ev_id_new.remove(ev_id_new[idx])\n",
        "    damage_new.remove(damage_new[idx])\n",
        "    evtype_new.remove(evtype_new[idx])\n",
        "    year_new.remove(year_new[idx])\n",
        "    fatal_new.remove(fatal_new[idx])"
      ],
      "metadata": {
        "id": "G8A85ecHBlM_"
      },
      "execution_count": 58,
      "outputs": []
    },
    {
      "cell_type": "code",
      "source": [
        "i=0\n",
        "for idx, itm in enumerate (ev_id_new):\n",
        "  if itm not in (ev_id_rpt):\n",
        "    print(\"NOT AGAIN!!!\")\n",
        "    i+=1\n",
        "if (i==0):\n",
        "  print(\"Great! It is checked! All the repetitive items in the list belong to the filtered list as well!\")"
      ],
      "metadata": {
        "colab": {
          "base_uri": "https://localhost:8080/"
        },
        "id": "gxijKoBjBoqs",
        "outputId": "9d808898-ea14-4c3b-e401-e66d392754bc"
      },
      "execution_count": 59,
      "outputs": [
        {
          "output_type": "stream",
          "name": "stdout",
          "text": [
            "NOT AGAIN!!!\n",
            "NOT AGAIN!!!\n",
            "NOT AGAIN!!!\n",
            "NOT AGAIN!!!\n",
            "NOT AGAIN!!!\n",
            "NOT AGAIN!!!\n",
            "NOT AGAIN!!!\n"
          ]
        }
      ]
    },
    {
      "cell_type": "code",
      "source": [
        "for idx, itm in enumerate (ev_id_new):\n",
        "  if itm not in (ev_id_rpt):\n",
        "    ev_id_new.remove(ev_id_new[idx])\n",
        "    damage_new.remove(damage_new[idx])\n",
        "    evtype_new.remove(evtype_new[idx])\n",
        "    year_new.remove(year_new[idx])\n",
        "    fatal_new.remove(fatal_new[idx])"
      ],
      "metadata": {
        "id": "7IraWno2_E8S"
      },
      "execution_count": 60,
      "outputs": []
    },
    {
      "cell_type": "code",
      "source": [
        "i=0\n",
        "for idx, itm in enumerate (ev_id_new):\n",
        "  if itm not in (ev_id_rpt):\n",
        "    print(\"NOT AGAIN!!!\")\n",
        "    i+=1\n",
        "if (i==0):\n",
        "  print(\"Great! It is checked! All the repetitive items in the list belong to the filtered list as well!\")"
      ],
      "metadata": {
        "colab": {
          "base_uri": "https://localhost:8080/"
        },
        "id": "eAVCZsyxBwtl",
        "outputId": "f87e5697-047a-4eeb-abb8-4f9e2123fa36"
      },
      "execution_count": 61,
      "outputs": [
        {
          "output_type": "stream",
          "name": "stdout",
          "text": [
            "NOT AGAIN!!!\n",
            "NOT AGAIN!!!\n"
          ]
        }
      ]
    },
    {
      "cell_type": "code",
      "source": [
        "for idx, itm in enumerate (ev_id_new):\n",
        "  if itm not in (ev_id_rpt):\n",
        "    ev_id_new.remove(ev_id_new[idx])\n",
        "    damage_new.remove(damage_new[idx])\n",
        "    evtype_new.remove(evtype_new[idx])\n",
        "    year_new.remove(year_new[idx])\n",
        "    fatal_new.remove(fatal_new[idx])"
      ],
      "metadata": {
        "id": "TvldmX_RB0Ta"
      },
      "execution_count": 62,
      "outputs": []
    },
    {
      "cell_type": "code",
      "source": [
        "i=0\n",
        "for idx, itm in enumerate (ev_id_new):\n",
        "  if itm not in (ev_id_rpt):\n",
        "    print(\"NOT AGAIN!!!\")\n",
        "    i+=1\n",
        "if (i==0):\n",
        "  print(\"Great! It is checked! All the repetitive items in the list belong to the filtered list as well!\")"
      ],
      "metadata": {
        "colab": {
          "base_uri": "https://localhost:8080/"
        },
        "id": "R3khBfs2B2iP",
        "outputId": "ad79d74e-313d-4298-c61c-9bd4612a886c"
      },
      "execution_count": 63,
      "outputs": [
        {
          "output_type": "stream",
          "name": "stdout",
          "text": [
            "Great! It is checked! All the repetitive items in the list belong to the filtered list as well!\n"
          ]
        }
      ]
    },
    {
      "cell_type": "markdown",
      "source": [
        "**dasture REMOVE ro dobare check kon! chizaye ajibi dasht vaghean! :)**"
      ],
      "metadata": {
        "id": "I_uNEexoE6Xb"
      }
    },
    {
      "cell_type": "code",
      "source": [
        "len(ev_id_check)"
      ],
      "metadata": {
        "colab": {
          "base_uri": "https://localhost:8080/"
        },
        "id": "xC5BSf2O_GRC",
        "outputId": "32709ca7-a7ba-4ace-99d5-348f3fc5a717"
      },
      "execution_count": 64,
      "outputs": [
        {
          "output_type": "execute_result",
          "data": {
            "text/plain": [
              "13287"
            ]
          },
          "metadata": {},
          "execution_count": 64
        }
      ]
    },
    {
      "cell_type": "code",
      "source": [
        "len(ev_id_rpt),len(ev_id_new)"
      ],
      "metadata": {
        "colab": {
          "base_uri": "https://localhost:8080/"
        },
        "id": "5ZVn6782qagA",
        "outputId": "b64ef42d-6746-4af4-c3e6-dcc96a219a2a"
      },
      "execution_count": 65,
      "outputs": [
        {
          "output_type": "execute_result",
          "data": {
            "text/plain": [
              "(40656, 13287)"
            ]
          },
          "metadata": {},
          "execution_count": 65
        }
      ]
    },
    {
      "cell_type": "code",
      "source": [
        "len(finding_rpt)"
      ],
      "metadata": {
        "colab": {
          "base_uri": "https://localhost:8080/"
        },
        "id": "yCd2J8sW4Hir",
        "outputId": "0084a435-e53d-485d-b531-4c33f8a4e7f0"
      },
      "execution_count": 66,
      "outputs": [
        {
          "output_type": "execute_result",
          "data": {
            "text/plain": [
              "40656"
            ]
          },
          "metadata": {},
          "execution_count": 66
        }
      ]
    },
    {
      "cell_type": "code",
      "source": [
        "finding_new=[]\n",
        "counter=-1\n",
        "number_of_findings=[]\n",
        "kk=0\n",
        "for idx, itm in enumerate (ev_id_rpt):\n",
        "  inter=[finding_rpt[idx]]\n",
        "  if (itm!=ev_id_rpt[idx-1]):\n",
        "    kk=0\n",
        "    inter=[finding_rpt[idx]]\n",
        "    finding_new.append(inter)\n",
        "    con=[0]\n",
        "    number_of_findings.append(con)\n",
        "    counter+=1 #so starts from zero! :) \n",
        "  else:\n",
        "    kk+=1\n",
        "    con=[kk]\n",
        "    finding_new[counter].extend(inter)\n",
        "    number_of_findings[counter].extend(con)"
      ],
      "metadata": {
        "id": "17R5fyPfqWcf"
      },
      "execution_count": 67,
      "outputs": []
    },
    {
      "cell_type": "code",
      "source": [
        "targets+=['finding_new']\n",
        "targets"
      ],
      "metadata": {
        "colab": {
          "base_uri": "https://localhost:8080/"
        },
        "id": "T7DYSvYpCRNL",
        "outputId": "7b84a556-ff3f-4986-891a-4c87b82d79dd"
      },
      "execution_count": 68,
      "outputs": [
        {
          "output_type": "execute_result",
          "data": {
            "text/plain": [
              "['ev_id_new',\n",
              " 'damage_new',\n",
              " 'evtype_new',\n",
              " 'year_new',\n",
              " 'fatal_new',\n",
              " 'finding_new']"
            ]
          },
          "metadata": {},
          "execution_count": 68
        }
      ]
    },
    {
      "cell_type": "code",
      "source": [
        "len(finding_new),len(number_of_findings),"
      ],
      "metadata": {
        "colab": {
          "base_uri": "https://localhost:8080/"
        },
        "id": "7eSAvVsB2j6e",
        "outputId": "f97f6a3f-b41a-4f99-e5ac-6a6e46c32cd5"
      },
      "execution_count": 69,
      "outputs": [
        {
          "output_type": "execute_result",
          "data": {
            "text/plain": [
              "(13287, 13287)"
            ]
          },
          "metadata": {},
          "execution_count": 69
        }
      ]
    },
    {
      "cell_type": "code",
      "source": [
        "ev_id_new[2]"
      ],
      "metadata": {
        "colab": {
          "base_uri": "https://localhost:8080/",
          "height": 35
        },
        "id": "jr1UEnHj3Vb7",
        "outputId": "9b0e47df-6ae8-4e31-d131-210ddf18c4df"
      },
      "execution_count": 70,
      "outputs": [
        {
          "output_type": "execute_result",
          "data": {
            "text/plain": [
              "'20090103X05930'"
            ],
            "application/vnd.google.colaboratory.intrinsic+json": {
              "type": "string"
            }
          },
          "metadata": {},
          "execution_count": 70
        }
      ]
    },
    {
      "cell_type": "code",
      "source": [
        "number_of_findings[10]"
      ],
      "metadata": {
        "colab": {
          "base_uri": "https://localhost:8080/"
        },
        "id": "FuL35P1t6nDX",
        "outputId": "16e8a300-4305-4392-f53b-62dc4b43a766"
      },
      "execution_count": 71,
      "outputs": [
        {
          "output_type": "execute_result",
          "data": {
            "text/plain": [
              "[0, 1, 2]"
            ]
          },
          "metadata": {},
          "execution_count": 71
        }
      ]
    },
    {
      "cell_type": "code",
      "source": [
        "print(finding_new[10])\n",
        "print(ev_id_new[10])"
      ],
      "metadata": {
        "colab": {
          "base_uri": "https://localhost:8080/"
        },
        "id": "EP3bcCDN6oYf",
        "outputId": "285fa02b-7d2c-4c38-e61e-667b7b1782b2"
      },
      "execution_count": 72,
      "outputs": [
        {
          "output_type": "stream",
          "name": "stdout",
          "text": [
            "['Personnel issues-Task performance-Planning/preparation-Fuel planning-Pilot - C', 'Personnel issues-Action/decision-Info processing/decision-Decision making/judgment-Pilot ', 'Environmental issues-Conditions/weather/phenomena-Ceiling/visibility/precip-Low ceiling-Contributed to outcome ']\n",
            "20090106X42651\n"
          ]
        }
      ]
    },
    {
      "cell_type": "code",
      "source": [
        "len(ev_id_new),len(damage_new),len(evtype_new),len(year_new),len(fatal_new),len(finding_new),len(number_of_findings),len(finding_new),len(number_of_findings)"
      ],
      "metadata": {
        "colab": {
          "base_uri": "https://localhost:8080/"
        },
        "id": "IT4LAjWGCihs",
        "outputId": "2f9210db-434d-489f-b3a2-b3358f8b11ca"
      },
      "execution_count": 73,
      "outputs": [
        {
          "output_type": "execute_result",
          "data": {
            "text/plain": [
              "(13287, 13287, 13287, 13287, 13287, 13287, 13287, 13287, 13287)"
            ]
          },
          "metadata": {},
          "execution_count": 73
        }
      ]
    },
    {
      "cell_type": "markdown",
      "source": [
        "A TRIUMPH!"
      ],
      "metadata": {
        "id": "YTUJvnyfC2TQ"
      }
    },
    {
      "cell_type": "code",
      "source": [
        "# number_of_findings\n",
        "number_of_findings[0]\n",
        "len(number_of_findings[0])\n",
        "total_findings=[]\n",
        "for itm in number_of_findings:\n",
        "  tfno=len(itm)\n",
        "  total_findings.append(tfno)"
      ],
      "metadata": {
        "id": "qe7bO1z63kkN"
      },
      "execution_count": 74,
      "outputs": []
    },
    {
      "cell_type": "code",
      "source": [
        "len(total_findings)\n",
        "targets+=['total_findings']\n",
        "targets"
      ],
      "metadata": {
        "colab": {
          "base_uri": "https://localhost:8080/"
        },
        "id": "S7japwMWDS5n",
        "outputId": "e6bd35e8-a874-4dbb-d995-55e1e89d9ff1"
      },
      "execution_count": 75,
      "outputs": [
        {
          "output_type": "execute_result",
          "data": {
            "text/plain": [
              "['ev_id_new',\n",
              " 'damage_new',\n",
              " 'evtype_new',\n",
              " 'year_new',\n",
              " 'fatal_new',\n",
              " 'finding_new',\n",
              " 'total_findings']"
            ]
          },
          "metadata": {},
          "execution_count": 75
        }
      ]
    },
    {
      "cell_type": "code",
      "source": [
        "a=[1,2,3]\n",
        "b=[a[1]]\n",
        "[[b]]\n",
        "d=[]\n",
        "for idx , itm in enumerate(a):\n",
        "  if itm>1:\n",
        "    c=[itm]\n",
        "    d+=[c]\n",
        "d"
      ],
      "metadata": {
        "colab": {
          "base_uri": "https://localhost:8080/"
        },
        "id": "iwEM5oP1ykI8",
        "outputId": "5c9fa920-ff50-42d9-c680-3f0cff55d1b1"
      },
      "execution_count": 76,
      "outputs": [
        {
          "output_type": "execute_result",
          "data": {
            "text/plain": [
              "[[2], [3]]"
            ]
          },
          "metadata": {},
          "execution_count": 76
        }
      ]
    },
    {
      "cell_type": "code",
      "source": [
        "len(finding_new)"
      ],
      "metadata": {
        "colab": {
          "base_uri": "https://localhost:8080/"
        },
        "id": "HRankxoirqbD",
        "outputId": "b11d3edc-bf1b-4fcb-b79c-068eaf80cebe"
      },
      "execution_count": 77,
      "outputs": [
        {
          "output_type": "execute_result",
          "data": {
            "text/plain": [
              "13287"
            ]
          },
          "metadata": {},
          "execution_count": 77
        }
      ]
    },
    {
      "cell_type": "code",
      "source": [
        "len(ev_id_new),len(damage_new),len(evtype_new),len(year_new),len(fatal_new),len(finding_new),len(number_of_findings),len(finding_new),len(number_of_findings)"
      ],
      "metadata": {
        "id": "R8hsmmgFIvwq",
        "colab": {
          "base_uri": "https://localhost:8080/"
        },
        "outputId": "21c04082-f737-42c6-dacc-09174d1102e1"
      },
      "execution_count": 79,
      "outputs": [
        {
          "output_type": "execute_result",
          "data": {
            "text/plain": [
              "(13287, 13287, 13287, 13287, 13287, 13287, 13287, 13287, 13287)"
            ]
          },
          "metadata": {},
          "execution_count": 79
        }
      ]
    },
    {
      "cell_type": "code",
      "source": [
        "a=[0,1,2,3]\n",
        "a[1:3]"
      ],
      "metadata": {
        "colab": {
          "base_uri": "https://localhost:8080/"
        },
        "id": "3kfbrTc3UfEB",
        "outputId": "ca478105-9c54-4e68-fd21-074bf0b48a7a"
      },
      "execution_count": 80,
      "outputs": [
        {
          "output_type": "execute_result",
          "data": {
            "text/plain": [
              "[1, 2]"
            ]
          },
          "metadata": {},
          "execution_count": 80
        }
      ]
    },
    {
      "cell_type": "code",
      "source": [
        "# all_narratives_new=[]\n",
        "pnar_new=[] #preliminary\n",
        "fnar_new=[] #factual\n",
        "cnar_new=[] #cause\n",
        "ev_id_nar_rep=[]\n",
        "\n",
        "narratives_p=list(sheet[3][sheet[3].columns[2]])\n",
        "narratives_f=list(sheet[3][sheet[3].columns[3]])\n",
        "narratives_c=list(sheet[3][sheet[3].columns[4]])\n",
        "ev_id_narratives=list(sheet[3][sheet[3].columns[0]])\n",
        "\n",
        "# for itm in enumerate (damage_clmn):\n",
        "# damage_clmn.fillna(0)\n",
        "\n",
        "\n",
        "# #############\n",
        "for idx , itm in enumerate (ev_id_narratives):\n",
        "  if itm in ev_id_new:\n",
        "    pnar_new.append(narratives_p[idx])\n",
        "    fnar_new.append(narratives_f[idx])\n",
        "    cnar_new.append(narratives_c[idx])\n",
        "    ev_id_nar_rep.append(itm)\n",
        "#     all_narratives_new.append(itm)\n",
        "\n",
        "\n",
        "\n",
        "#     finding_new=[]\n",
        "# counter=-1\n",
        "# number_of_findings=[]\n",
        "# kk=0\n",
        "# for idx, itm in enumerate (ev_id_rpt):\n",
        "#   inter=[finding_rpt[idx]]\n",
        "#   if (itm!=ev_id_rpt[idx-1]):\n",
        "#     kk=0\n",
        "#     inter=[finding_rpt[idx]]\n",
        "#     finding_new.append(inter)\n",
        "#     con=[0]\n",
        "#     number_of_findings.append(con)\n",
        "#     counter+=1 #so starts from zero! :) \n",
        "#   else:\n",
        "#     kk+=1\n",
        "#     con=[kk]\n",
        "#     finding_new[counter].extend(inter)\n",
        "#     number_of_findings[counter].extend(con)"
      ],
      "metadata": {
        "id": "2dfM31-lTeK_"
      },
      "execution_count": 81,
      "outputs": []
    },
    {
      "cell_type": "code",
      "source": [
        "i=0\n",
        "for itm in ev_id_new:\n",
        "  if itm not in ev_id_nar_rep:\n",
        "    i=i+1\n",
        "if i>0:\n",
        "  print(\"AGAIN!\",i,\"cases in trouble!\")\n",
        "# else:\n",
        "#   print(\"Everything is checked again! no problem in filtering till now! :)\")"
      ],
      "metadata": {
        "id": "dwJh3_sTXsqr"
      },
      "execution_count": 82,
      "outputs": []
    },
    {
      "cell_type": "code",
      "source": [
        "len(ev_id_nar_rep),len(ev_id_new),len(ev_id_narratives)"
      ],
      "metadata": {
        "colab": {
          "base_uri": "https://localhost:8080/"
        },
        "id": "VLXLIfTwU44d",
        "outputId": "e91aef8e-b432-487d-8152-6e400d2a5b47"
      },
      "execution_count": 83,
      "outputs": [
        {
          "output_type": "execute_result",
          "data": {
            "text/plain": [
              "(13305, 13287, 23867)"
            ]
          },
          "metadata": {},
          "execution_count": 83
        }
      ]
    },
    {
      "cell_type": "code",
      "source": [
        "i=0\n",
        "for itm in ev_id_new:\n",
        "  if itm not in ev_id_narratives:\n",
        "    i=i+1\n",
        "if i>0:\n",
        "  print(\"AGAIN!\",i,\"cases in trouble!\")\n",
        "# else:\n",
        "  #print(\"Everything is checked again! no problem in filtering till now! :)\")"
      ],
      "metadata": {
        "id": "hoYPMVP9ZHdZ"
      },
      "execution_count": 84,
      "outputs": []
    },
    {
      "cell_type": "code",
      "source": [
        "if (ev_id_nar_rep[72])  in ev_id_new:\n",
        "  print(\"you re right!\")\n",
        "\n",
        "for idx, itm in enumerate (ev_id_new):\n",
        "  if itm==ev_id_nar_rep[72]:\n",
        "    print(idx)"
      ],
      "metadata": {
        "colab": {
          "base_uri": "https://localhost:8080/"
        },
        "id": "QFTXcLfXcSAq",
        "outputId": "e9f5cb69-dadc-4351-9600-ca06e591fb56"
      },
      "execution_count": 85,
      "outputs": [
        {
          "output_type": "stream",
          "name": "stdout",
          "text": [
            "you re right!\n",
            "71\n"
          ]
        }
      ]
    },
    {
      "cell_type": "code",
      "source": [
        "i=0\n",
        "for idx, item in enumerate (ev_id_nar_rep):\n",
        "  if (item!=(ev_id_new[idx])):\n",
        "    print(idx)\n",
        "    break\n",
        "    print(\"\")\n",
        "    print(\"h!\")\n",
        "    i=i+1\n",
        "if i>0:\n",
        "  print(\"AGAIN!\",i,\"cases in trouble!\")\n",
        "# else:\n",
        "  #print(\"Everything is checked again! no problem in filtering till now! :)\")"
      ],
      "metadata": {
        "colab": {
          "base_uri": "https://localhost:8080/"
        },
        "id": "lZSDU1KbajfH",
        "outputId": "1c961cfb-6836-43e4-f4a1-f417cdd616f8"
      },
      "execution_count": 86,
      "outputs": [
        {
          "output_type": "stream",
          "name": "stdout",
          "text": [
            "72\n"
          ]
        }
      ]
    },
    {
      "cell_type": "code",
      "source": [
        "len(ev_id_nar_rep),len(ev_id_new),len(ev_id_narratives)"
      ],
      "metadata": {
        "colab": {
          "base_uri": "https://localhost:8080/"
        },
        "id": "m4ile1qjU8O6",
        "outputId": "647ed4f9-8aeb-4156-95f8-84027c63bd7f"
      },
      "execution_count": 87,
      "outputs": [
        {
          "output_type": "execute_result",
          "data": {
            "text/plain": [
              "(13305, 13287, 23867)"
            ]
          },
          "metadata": {},
          "execution_count": 87
        }
      ]
    },
    {
      "cell_type": "code",
      "source": [
        "len(pnar_new)"
      ],
      "metadata": {
        "colab": {
          "base_uri": "https://localhost:8080/"
        },
        "id": "yORNaWkJiX4y",
        "outputId": "3bcf7b37-b9cd-49d0-f0fe-4c184c68b32e"
      },
      "execution_count": 88,
      "outputs": [
        {
          "output_type": "execute_result",
          "data": {
            "text/plain": [
              "13305"
            ]
          },
          "metadata": {},
          "execution_count": 88
        }
      ]
    },
    {
      "cell_type": "code",
      "source": [
        "\n",
        "for itm in (ev_id_new):\n",
        "  if itm not in (ev_id_nar_rep):\n",
        "    print(itm)"
      ],
      "metadata": {
        "id": "XSVFtBH8f4RY"
      },
      "execution_count": 89,
      "outputs": []
    },
    {
      "cell_type": "code",
      "source": [
        "for itm in (ev_id_nar_rep):\n",
        "  if itm not in (ev_id_new):\n",
        "    print(itm)"
      ],
      "metadata": {
        "id": "ZJY4vbgGfl03"
      },
      "execution_count": 90,
      "outputs": []
    },
    {
      "cell_type": "code",
      "source": [
        "ev_id_nar_clean=[]\n",
        "id_problem=[]\n",
        "for itm in ev_id_nar_rep:\n",
        "  if itm not in ev_id_nar_clean:\n",
        "    ev_id_nar_clean.append(itm) #cleaning repeated ids\n",
        "  else:\n",
        "    print(itm) #to recognize repeated, more than one A/C involved accidents and errors of the reports!\n",
        "    id_problem.append(itm)\n",
        "\n"
      ],
      "metadata": {
        "colab": {
          "base_uri": "https://localhost:8080/"
        },
        "id": "zfVWgvDdgIvL",
        "outputId": "2808484d-23f7-4229-f5fb-b91697553e3c"
      },
      "execution_count": 91,
      "outputs": [
        {
          "output_type": "stream",
          "name": "stdout",
          "text": [
            "20090202X21409\n",
            "20090808X42846\n",
            "20100704X92306\n",
            "20110102X35752\n",
            "20110330X05145\n",
            "20110711X41528\n",
            "20110830X71207\n",
            "20111209X35527\n",
            "20141021X94521\n",
            "20141023X01333\n",
            "20141121X15631\n",
            "20150129X05038\n",
            "20150707X22207\n",
            "20160413X30204\n",
            "20160718X62313\n",
            "20180614X22730\n",
            "20200713X65734\n",
            "20211018104116\n"
          ]
        }
      ]
    },
    {
      "cell_type": "code",
      "source": [
        "for itm in id_problem:\n",
        "  ev_id_nar_clean.remove(itm) # this gives up the only one A/C involved accidents\n"
      ],
      "metadata": {
        "id": "hoN3-m9Dhk_P"
      },
      "execution_count": 92,
      "outputs": []
    },
    {
      "cell_type": "code",
      "source": [
        "while (len(ev_id_nar_rep)>len(ev_id_nar_clean)):\n",
        "  for idx, itm in enumerate(ev_id_nar_rep):\n",
        "    if itm in id_problem:\n",
        "      ev_id_nar_rep.remove(itm)\n",
        "      pnar_new.remove(pnar_new[idx])\n",
        "      fnar_new.remove(fnar_new[idx])\n",
        "      cnar_new.remove(cnar_new[idx])\n",
        "  "
      ],
      "metadata": {
        "id": "DIXRJZpEikPt"
      },
      "execution_count": 93,
      "outputs": []
    },
    {
      "cell_type": "code",
      "source": [
        "# targets+=['pnar_new,fnar_new,cnar_new']"
      ],
      "metadata": {
        "id": "Bs-zH3LGl5dM"
      },
      "execution_count": 94,
      "outputs": []
    },
    {
      "cell_type": "code",
      "source": [
        "len(ev_id_nar_rep),len(ev_id_nar_clean)"
      ],
      "metadata": {
        "colab": {
          "base_uri": "https://localhost:8080/"
        },
        "id": "XZe_so9mh47G",
        "outputId": "98caa988-aea5-43c5-b9a7-d4dadbbe50f7"
      },
      "execution_count": 95,
      "outputs": [
        {
          "output_type": "execute_result",
          "data": {
            "text/plain": [
              "(13269, 13269)"
            ]
          },
          "metadata": {},
          "execution_count": 95
        }
      ]
    },
    {
      "cell_type": "code",
      "source": [
        "for idx, itm in enumerate(ev_id_nar_clean):\n",
        "    if itm in id_problem:\n",
        "      print(itm)\n",
        "    "
      ],
      "metadata": {
        "id": "WrkutmeH6mOZ"
      },
      "execution_count": 96,
      "outputs": []
    },
    {
      "cell_type": "code",
      "source": [
        "print(\"I FOUND ANOTHER THING!!! THERE ARE CASES that stated are about one aircraft, while on the finding and narrative sheet, I find two aircrafts involved!!!!\")"
      ],
      "metadata": {
        "colab": {
          "base_uri": "https://localhost:8080/"
        },
        "id": "c0jA9btzhCr5",
        "outputId": "61a790dd-03dd-43b6-883e-e9341ecbd218"
      },
      "execution_count": 97,
      "outputs": [
        {
          "output_type": "stream",
          "name": "stdout",
          "text": [
            "I FOUND ANOTHER THING!!! THERE ARE CASES that stated are about one aircraft, while on the finding and narrative sheet, I find two aircrafts involved!!!!\n"
          ]
        }
      ]
    },
    {
      "cell_type": "markdown",
      "source": [
        "**I FOUND ANOTHER THING!!! THERE ARE CASES that stated are about one aircraft, while on the finding and narrative sheet, I find two aircrafts involved!!!! So, this not complete information here resulted in WRONG information!**"
      ],
      "metadata": {
        "id": "OpDwBTs7hblg"
      }
    },
    {
      "cell_type": "code",
      "source": [
        "len(id_problem)"
      ],
      "metadata": {
        "colab": {
          "base_uri": "https://localhost:8080/"
        },
        "id": "3flu8Xkzgu2H",
        "outputId": "7d2b43d3-e10f-4e5f-e5d4-a31ef9a6a5e4"
      },
      "execution_count": 98,
      "outputs": [
        {
          "output_type": "execute_result",
          "data": {
            "text/plain": [
              "18"
            ]
          },
          "metadata": {},
          "execution_count": 98
        }
      ]
    },
    {
      "cell_type": "code",
      "source": [
        "ev_id_nar_clean[72]"
      ],
      "metadata": {
        "colab": {
          "base_uri": "https://localhost:8080/",
          "height": 35
        },
        "id": "HePzpcpiVF_O",
        "outputId": "0660a7d9-e0bd-4b8e-b52a-caf3f207a629"
      },
      "execution_count": 99,
      "outputs": [
        {
          "output_type": "execute_result",
          "data": {
            "text/plain": [
              "'20090203X42525'"
            ],
            "application/vnd.google.colaboratory.intrinsic+json": {
              "type": "string"
            }
          },
          "metadata": {},
          "execution_count": 99
        }
      ]
    },
    {
      "cell_type": "code",
      "source": [
        "ev_id_new[71]"
      ],
      "metadata": {
        "colab": {
          "base_uri": "https://localhost:8080/",
          "height": 35
        },
        "id": "HdjjV0yybgnd",
        "outputId": "f096a7af-3c5f-4b9d-e3e3-020d734bbc6b"
      },
      "execution_count": 100,
      "outputs": [
        {
          "output_type": "execute_result",
          "data": {
            "text/plain": [
              "'20090202X21409'"
            ],
            "application/vnd.google.colaboratory.intrinsic+json": {
              "type": "string"
            }
          },
          "metadata": {},
          "execution_count": 100
        }
      ]
    },
    {
      "cell_type": "code",
      "source": [
        "len(ev_id_new)"
      ],
      "metadata": {
        "colab": {
          "base_uri": "https://localhost:8080/"
        },
        "id": "eTBKKnc1BOkq",
        "outputId": "55c3fd59-badd-45b6-9057-9b1a4106aa21"
      },
      "execution_count": 101,
      "outputs": [
        {
          "output_type": "execute_result",
          "data": {
            "text/plain": [
              "13287"
            ]
          },
          "metadata": {},
          "execution_count": 101
        }
      ]
    },
    {
      "cell_type": "code",
      "source": [
        "for idx, itm in enumerate(ev_id_nar_clean):\n",
        "    if itm not in ev_id_new:\n",
        "      print(itm)\n",
        "    "
      ],
      "metadata": {
        "id": "vttTd2fJBdv_"
      },
      "execution_count": 102,
      "outputs": []
    },
    {
      "cell_type": "code",
      "source": [
        "for idx, itm in enumerate(ev_id_new):\n",
        "    if itm not in ev_id_nar_clean:\n",
        "      print(itm)\n",
        "    "
      ],
      "metadata": {
        "colab": {
          "base_uri": "https://localhost:8080/"
        },
        "id": "tjL-4vo9Bl0L",
        "outputId": "065221f4-7cd7-4c11-aeb2-098b5ac81d85"
      },
      "execution_count": 103,
      "outputs": [
        {
          "output_type": "stream",
          "name": "stdout",
          "text": [
            "20090202X21409\n",
            "20090808X42846\n",
            "20100704X92306\n",
            "20110102X35752\n",
            "20110330X05145\n",
            "20110711X41528\n",
            "20110830X71207\n",
            "20111209X35527\n",
            "20141021X94521\n",
            "20141023X01333\n",
            "20141121X15631\n",
            "20150129X05038\n",
            "20150707X22207\n",
            "20160413X30204\n",
            "20160718X62313\n",
            "20180614X22730\n",
            "20200713X65734\n",
            "20211018104116\n"
          ]
        }
      ]
    },
    {
      "cell_type": "code",
      "source": [
        "len(ev_id_new),len(damage_new),len(evtype_new),len(year_new),len(fatal_new),len(finding_new),len(number_of_findings)"
      ],
      "metadata": {
        "colab": {
          "base_uri": "https://localhost:8080/"
        },
        "id": "e2wWgrtbbiPl",
        "outputId": "4b66c902-e80f-49e1-f429-016fea01ffbe"
      },
      "execution_count": 104,
      "outputs": [
        {
          "output_type": "execute_result",
          "data": {
            "text/plain": [
              "(13287, 13287, 13287, 13287, 13287, 13287, 13287)"
            ]
          },
          "metadata": {},
          "execution_count": 104
        }
      ]
    },
    {
      "cell_type": "code",
      "source": [
        "len(finding_new[0])"
      ],
      "metadata": {
        "colab": {
          "base_uri": "https://localhost:8080/"
        },
        "id": "bJDB8-obqS-2",
        "outputId": "fbdf0531-4756-4d6f-fce8-34e038a997a3"
      },
      "execution_count": 105,
      "outputs": [
        {
          "output_type": "execute_result",
          "data": {
            "text/plain": [
              "4"
            ]
          },
          "metadata": {},
          "execution_count": 105
        }
      ]
    },
    {
      "cell_type": "code",
      "source": [
        "len(finding_new)"
      ],
      "metadata": {
        "colab": {
          "base_uri": "https://localhost:8080/"
        },
        "id": "RPF856_VqahB",
        "outputId": "5140551c-156f-4e11-a752-45c53d741c4b"
      },
      "execution_count": 106,
      "outputs": [
        {
          "output_type": "execute_result",
          "data": {
            "text/plain": [
              "13287"
            ]
          },
          "metadata": {},
          "execution_count": 106
        }
      ]
    },
    {
      "cell_type": "code",
      "source": [
        "for idx, itm in enumerate(ev_id_new):\n",
        "    if itm in id_problem:\n",
        "      print(itm)\n",
        "    "
      ],
      "metadata": {
        "id": "HnUn1YXrmtFd",
        "colab": {
          "base_uri": "https://localhost:8080/"
        },
        "outputId": "17982c5b-562e-475e-ab07-6963ddfc41d1"
      },
      "execution_count": 107,
      "outputs": [
        {
          "output_type": "stream",
          "name": "stdout",
          "text": [
            "20090202X21409\n",
            "20090808X42846\n",
            "20100704X92306\n",
            "20110102X35752\n",
            "20110330X05145\n",
            "20110711X41528\n",
            "20110830X71207\n",
            "20111209X35527\n",
            "20141021X94521\n",
            "20141023X01333\n",
            "20141121X15631\n",
            "20150129X05038\n",
            "20150707X22207\n",
            "20160413X30204\n",
            "20160718X62313\n",
            "20180614X22730\n",
            "20200713X65734\n",
            "20211018104116\n"
          ]
        }
      ]
    },
    {
      "cell_type": "code",
      "source": [
        "targets\n",
        "len(ev_id_new),len(damage_new),len(evtype_new),len(year_new),len(fatal_new),len(finding_new),len(number_of_findings),len(pnar_new),len(fnar_new),len(cnar_new)"
      ],
      "metadata": {
        "colab": {
          "base_uri": "https://localhost:8080/"
        },
        "id": "-XABGg4xmJFf",
        "outputId": "015d0461-4955-4a10-e6e2-a75eb11c26d1"
      },
      "execution_count": 108,
      "outputs": [
        {
          "output_type": "execute_result",
          "data": {
            "text/plain": [
              "(13287, 13287, 13287, 13287, 13287, 13287, 13287, 13269, 13269, 13269)"
            ]
          },
          "metadata": {},
          "execution_count": 108
        }
      ]
    },
    {
      "cell_type": "code",
      "source": [
        "targets+=[\"pnar_new\",'fnar_new','cnar_new']"
      ],
      "metadata": {
        "id": "40QJdYzRCSvK"
      },
      "execution_count": 109,
      "outputs": []
    },
    {
      "cell_type": "code",
      "source": [
        "(targets)"
      ],
      "metadata": {
        "colab": {
          "base_uri": "https://localhost:8080/"
        },
        "id": "0IYX4-u7CXOf",
        "outputId": "271515e5-e957-4a92-83b1-d204ff349120"
      },
      "execution_count": 110,
      "outputs": [
        {
          "output_type": "execute_result",
          "data": {
            "text/plain": [
              "['ev_id_new',\n",
              " 'damage_new',\n",
              " 'evtype_new',\n",
              " 'year_new',\n",
              " 'fatal_new',\n",
              " 'finding_new',\n",
              " 'total_findings',\n",
              " 'pnar_new',\n",
              " 'fnar_new',\n",
              " 'cnar_new']"
            ]
          },
          "metadata": {},
          "execution_count": 110
        }
      ]
    },
    {
      "cell_type": "code",
      "source": [
        "targets\n"
      ],
      "metadata": {
        "colab": {
          "base_uri": "https://localhost:8080/"
        },
        "id": "2qP1YKAwIFwj",
        "outputId": "a371c98f-9dd1-43ad-c676-349222567924"
      },
      "execution_count": 111,
      "outputs": [
        {
          "output_type": "execute_result",
          "data": {
            "text/plain": [
              "['ev_id_new',\n",
              " 'damage_new',\n",
              " 'evtype_new',\n",
              " 'year_new',\n",
              " 'fatal_new',\n",
              " 'finding_new',\n",
              " 'total_findings',\n",
              " 'pnar_new',\n",
              " 'fnar_new',\n",
              " 'cnar_new']"
            ]
          },
          "metadata": {},
          "execution_count": 111
        }
      ]
    },
    {
      "cell_type": "code",
      "source": [
        "features=[ev_id_new,damage_new,evtype_new,year_new,fatal_new,finding_new,total_findings,pnar_new,fnar_new,cnar_new]"
      ],
      "metadata": {
        "id": "Kl5TmDdSLW_x"
      },
      "execution_count": 112,
      "outputs": []
    },
    {
      "cell_type": "code",
      "source": [
        "len(features)"
      ],
      "metadata": {
        "colab": {
          "base_uri": "https://localhost:8080/"
        },
        "id": "LpaD2GNeLZl9",
        "outputId": "000e94f8-32e7-42fe-8ad2-e936965ca558"
      },
      "execution_count": 113,
      "outputs": [
        {
          "output_type": "execute_result",
          "data": {
            "text/plain": [
              "10"
            ]
          },
          "metadata": {},
          "execution_count": 113
        }
      ]
    },
    {
      "cell_type": "code",
      "source": [
        "for idx , itm in enumerate (features):\n",
        "  print(len(features[idx]),idx)"
      ],
      "metadata": {
        "colab": {
          "base_uri": "https://localhost:8080/"
        },
        "id": "6TXAMtakLbCs",
        "outputId": "feb9b85e-dc59-4f08-a45f-bfab3d275d6f"
      },
      "execution_count": 114,
      "outputs": [
        {
          "output_type": "stream",
          "name": "stdout",
          "text": [
            "13287 0\n",
            "13287 1\n",
            "13287 2\n",
            "13287 3\n",
            "13287 4\n",
            "13287 5\n",
            "13287 6\n",
            "13269 7\n",
            "13269 8\n",
            "13269 9\n"
          ]
        }
      ]
    },
    {
      "cell_type": "code",
      "source": [
        "len(ev_id_nar_clean)"
      ],
      "metadata": {
        "colab": {
          "base_uri": "https://localhost:8080/"
        },
        "id": "qhUUkAiMMif9",
        "outputId": "f7a57cfe-bb4f-409b-87eb-8ccd387eea9c"
      },
      "execution_count": 115,
      "outputs": [
        {
          "output_type": "execute_result",
          "data": {
            "text/plain": [
              "13269"
            ]
          },
          "metadata": {},
          "execution_count": 115
        }
      ]
    },
    {
      "cell_type": "code",
      "source": [
        "# len(ev_id_nar_clean)\n",
        "for idx, itm in enumerate (ev_id_new):\n",
        "  if itm not in ev_id_nar_clean:\n",
        "    ev_id_new.remove(itm)\n",
        "    damage_new.remove(damage_new[idx])\n",
        "    evtype_new.remove(evtype_new[idx])\n",
        "    year_new.remove(year_new[idx])\n",
        "    fatal_new.remove(fatal_new[idx])\n",
        "    finding_new.remove(finding_new[idx])\n",
        "    total_findings.remove(total_findings[idx])\n",
        "\n"
      ],
      "metadata": {
        "id": "pnH_H6DcL_Rh"
      },
      "execution_count": 116,
      "outputs": []
    },
    {
      "cell_type": "code",
      "source": [
        "features=[ev_id_new,damage_new,evtype_new,year_new,fatal_new,finding_new,total_findings,pnar_new,fnar_new,cnar_new]\n",
        "# features\n",
        "# targets\n",
        "# len(int(targets[0]))"
      ],
      "metadata": {
        "id": "gvZ6V11-NSte"
      },
      "execution_count": 117,
      "outputs": []
    },
    {
      "cell_type": "code",
      "source": [
        "for idx , itm in enumerate (features):\n",
        "  print(len(features[idx]),idx)"
      ],
      "metadata": {
        "colab": {
          "base_uri": "https://localhost:8080/"
        },
        "id": "vU8TMZB9Np3O",
        "outputId": "bd35ea28-eb86-44c4-e86d-60026c5c9267"
      },
      "execution_count": 118,
      "outputs": [
        {
          "output_type": "stream",
          "name": "stdout",
          "text": [
            "13269 0\n",
            "13269 1\n",
            "13269 2\n",
            "13269 3\n",
            "13269 4\n",
            "13269 5\n",
            "13269 6\n",
            "13269 7\n",
            "13269 8\n",
            "13269 9\n"
          ]
        }
      ]
    },
    {
      "cell_type": "code",
      "source": [
        "# features\n",
        "matrix = np.array(features)"
      ],
      "metadata": {
        "colab": {
          "base_uri": "https://localhost:8080/"
        },
        "id": "mA2U4EUICmbv",
        "outputId": "8eb8249f-e0e4-425a-ed14-fe44ef9f544d"
      },
      "execution_count": 119,
      "outputs": [
        {
          "output_type": "stream",
          "name": "stderr",
          "text": [
            "/usr/local/lib/python3.7/dist-packages/ipykernel_launcher.py:2: VisibleDeprecationWarning: Creating an ndarray from ragged nested sequences (which is a list-or-tuple of lists-or-tuples-or ndarrays with different lengths or shapes) is deprecated. If you meant to do this, you must specify 'dtype=object' when creating the ndarray.\n",
            "  \n"
          ]
        }
      ]
    },
    {
      "cell_type": "code",
      "source": [
        "type(matrix)"
      ],
      "metadata": {
        "colab": {
          "base_uri": "https://localhost:8080/"
        },
        "id": "pq9GeDf6DiYE",
        "outputId": "caf8d2dc-3f34-4f7f-b844-f1b35b91fdd6"
      },
      "execution_count": 120,
      "outputs": [
        {
          "output_type": "execute_result",
          "data": {
            "text/plain": [
              "numpy.ndarray"
            ]
          },
          "metadata": {},
          "execution_count": 120
        }
      ]
    },
    {
      "cell_type": "code",
      "source": [
        "matrix=np.transpose(matrix)"
      ],
      "metadata": {
        "id": "HNeWLJqQOSrN"
      },
      "execution_count": 121,
      "outputs": []
    },
    {
      "cell_type": "code",
      "source": [
        "len(matrix)"
      ],
      "metadata": {
        "colab": {
          "base_uri": "https://localhost:8080/"
        },
        "id": "ayRbhMTHOW2T",
        "outputId": "938bec18-f512-48d1-fcef-1090b7b7cf43"
      },
      "execution_count": 122,
      "outputs": [
        {
          "output_type": "execute_result",
          "data": {
            "text/plain": [
              "13269"
            ]
          },
          "metadata": {},
          "execution_count": 122
        }
      ]
    },
    {
      "cell_type": "code",
      "source": [
        "matrix.shape"
      ],
      "metadata": {
        "colab": {
          "base_uri": "https://localhost:8080/"
        },
        "id": "DQgzVfCZOcfE",
        "outputId": "99afc3af-61c4-460f-b533-3b41f3f0315f"
      },
      "execution_count": 123,
      "outputs": [
        {
          "output_type": "execute_result",
          "data": {
            "text/plain": [
              "(13269, 10)"
            ]
          },
          "metadata": {},
          "execution_count": 123
        }
      ]
    },
    {
      "cell_type": "code",
      "source": [
        "# arr = matrix\n",
        "print(\"Numpy array:\")\n",
        "print(matrix)\n",
        "  \n",
        "# convert numpy array to dataframe\n",
        "table = pd.DataFrame(matrix, columns =targets)\n",
        "print(\"\\nPandas DataFrame: \")\n",
        "table"
      ],
      "metadata": {
        "colab": {
          "base_uri": "https://localhost:8080/",
          "height": 1000
        },
        "id": "ZEiLv4_4QpPa",
        "outputId": "f49f419f-cff8-4189-ea3e-1614dbacf702"
      },
      "execution_count": 125,
      "outputs": [
        {
          "output_type": "stream",
          "name": "stdout",
          "text": [
            "Numpy array:\n",
            "[['20090101X22627' 'MINR' 'INC' ...\n",
            "  'The student pilot was conducting his first solo flight and had performed two uneventful stop-and-go landings. As the airplane accelerated during the third takeoff, it began to veer to the left. The student pilot applied right rudder; however, the airplane'\n",
            "  'The student pilot was conducting his first solo flight and had performed two uneventful stop-and-go landings. As the airplane accelerated during the third takeoff, it began to veer to the left. The student pilot applied right rudder; however, the airplane'\n",
            "  \"The student pilot's failure to maintain directional control during takeoff. Contributing to the accident was the student pilot's lack of solo flight experience and the snow bank located off the left side of the runway.\"]\n",
            " ['20090102X02015' nan 'INC' ...\n",
            "  'HISTORY OF FLIGHT\\nOn January 1, 2009, at 2048 central standard time, a Lancair 360, N3603R, impacted the terrain following a loss of control while taking off on runway 12 (2,937 feet by 100 feet, dry asphalt) at the Joliet Regional Airport (JOT), Joliet, '\n",
            "  'The pilot landed with 4 to 5 gallons of fuel on board following a 4.5-hour cross-country flight.  After landing, the pilot made numerous attempts to locate fuel in order to continue the flight so that his passenger could be at work in the morning. The pil'\n",
            "  'The pilot’s failure to maintain adequate flying speed during the night takeoff for undetermined reasons, which resulted in an inadvertent aerodynamic stall and subsequent loss of control']\n",
            " ['20090103X05930' 'MINR' 'INC' ...\n",
            "  'HISTORY OF FLIGHT\\n\\nOn January 3, 2009, about 1445 Pacific standard time, an experimental PZL, PZL-104-35A, Wilga, N226PF, impacted trees following a loss of engine power in Redwood Regional Park, Oakland, California.  The owner/pilot was operating the air'\n",
            "  'The pilot reported that during a local personal flight, the engine lost power as a result of fuel exhaustion.  During the forced landing, he maneuvered to avoid power lines and subsequently impacted trees.  The pilot related that he thought he had enough '\n",
            "  'A loss of engine power due to fuel exhaustion as a result of the pilot’s inadequate preflight planning.']\n",
            " ...\n",
            " ['20220824105788' 'SUBS' 'ACC' ... nan\n",
            "  'The student pilot reported that the flight instructor was attempting to demonstrate a soft-field takeoff with 10° of flaps after having completed a short field landing. The flight instructor had the student pilot “follow along on the controls” during the '\n",
            "  'The flight instructor’s failure to maintain adequate airspeed during the demonstrated soft-field takeoff, which led to the airplane exceeding its critical angle-of-attack and experiencing an aerodynamic stall. \\n']\n",
            " ['20220825105796' 'UNK' 'ACC' ... nan\n",
            "  'The pilot reported that, just after take-off and while conducting the after-take-off checklist, the airplane drifted to the right and the right wing struck in a corn field. The airplane subsequently nosed over and came to rest inverted. The airplane susta'\n",
            "  'The pilot’s failure to maintain directional control during take-off, which resulted in a collision with crop and terrain.\\n']\n",
            " ['20220907105880' 'SUBS' 'ACC' ... nan\n",
            "  'The pilot of the tailwheel-equipped airplane was practicing takeoffs and landings on a turf runway. While on his third landing of the day he touched down and the airplane suddenly started to move to the left.  He applied right rudder but the airplane did '\n",
            "  'The pilot’s failure to maintain directional control during landing.\\n']]\n",
            "\n",
            "Pandas DataFrame: \n"
          ]
        },
        {
          "output_type": "execute_result",
          "data": {
            "text/plain": [
              "            ev_id_new damage_new evtype_new year_new fatal_new  \\\n",
              "0      20090101X22627       MINR        INC     2009      NONE   \n",
              "1      20090102X02015        NaN        INC     2009      NONE   \n",
              "2      20090103X05930       MINR        INC     2009      NONE   \n",
              "3      20090103X62819       MINR        INC     2009      NONE   \n",
              "4      20090103X93911       MINR        INC     2009      NONE   \n",
              "...               ...        ...        ...      ...       ...   \n",
              "13264  20220811105717       SUBS        ACC     2022      NONE   \n",
              "13265  20220816105746       SUBS        ACC     2022      NONE   \n",
              "13266  20220824105788       SUBS        ACC     2022      NONE   \n",
              "13267  20220825105796        UNK        ACC     2022      NONE   \n",
              "13268  20220907105880       SUBS        ACC     2022      NONE   \n",
              "\n",
              "                                             finding_new total_findings  \\\n",
              "0      [Aircraft-Aircraft oper/perf/capability-Perfor...              3   \n",
              "1      [Personnel issues-Task performance-Use of equi...              2   \n",
              "2      [Personnel issues-Task performance-Planning/pr...              3   \n",
              "3      [Personnel issues-Task performance-Use of equi...              3   \n",
              "4      [Environmental issues-Conditions/weather/pheno...              3   \n",
              "...                                                  ...            ...   \n",
              "13264  [Environmental issues-Conditions/weather/pheno...              3   \n",
              "13265  [Personnel issues-Task performance-Use of equi...              3   \n",
              "13266  [Aircraft-Aircraft oper/perf/capability-Perfor...              5   \n",
              "13267  [Aircraft-Aircraft oper/perf/capability-Perfor...              1   \n",
              "13268  [Aircraft-Aircraft oper/perf/capability-Perfor...              2   \n",
              "\n",
              "                                                pnar_new  \\\n",
              "0      The student pilot was conducting his first sol...   \n",
              "1      HISTORY OF FLIGHT\\nOn January 1, 2009, at 2048...   \n",
              "2      HISTORY OF FLIGHT\\n\\nOn January 3, 2009, about...   \n",
              "3      HISTORY OF FLIGHT\\n\\nOn January 3, 2009, appro...   \n",
              "4      HISTORY OF FLIGHT\\n\\nOn January 3, 2009, about...   \n",
              "...                                                  ...   \n",
              "13264                                                NaN   \n",
              "13265                                                NaN   \n",
              "13266                                                NaN   \n",
              "13267                                                NaN   \n",
              "13268                                                NaN   \n",
              "\n",
              "                                                fnar_new  \\\n",
              "0      The student pilot was conducting his first sol...   \n",
              "1      The pilot landed with 4 to 5 gallons of fuel o...   \n",
              "2      The pilot reported that during a local persona...   \n",
              "3      After leading a three-ship formation to the de...   \n",
              "4      After departing the traffic pattern and turnin...   \n",
              "...                                                  ...   \n",
              "13264  The pilot reported that, while turning the air...   \n",
              "13265  The flight instructor and airline transport pi...   \n",
              "13266  The student pilot reported that the flight ins...   \n",
              "13267  The pilot reported that, just after take-off a...   \n",
              "13268  The pilot of the tailwheel-equipped airplane w...   \n",
              "\n",
              "                                                cnar_new  \n",
              "0      The student pilot's failure to maintain direct...  \n",
              "1      The pilot’s failure to maintain adequate flyin...  \n",
              "2      A loss of engine power due to fuel exhaustion ...  \n",
              "3      The pilot's failure to maintain adequate airsp...  \n",
              "4      The non-instrument rated pilot's decision to c...  \n",
              "...                                                  ...  \n",
              "13264  The pilot’s inadequate compensation for gustin...  \n",
              "13265  The pilot’s failure to maintain directional co...  \n",
              "13266  The flight instructor’s failure to maintain ad...  \n",
              "13267  The pilot’s failure to maintain directional co...  \n",
              "13268  The pilot’s failure to maintain directional co...  \n",
              "\n",
              "[13269 rows x 10 columns]"
            ],
            "text/html": [
              "\n",
              "  <div id=\"df-ab9e15e2-6116-477b-8623-418a88e4abd3\">\n",
              "    <div class=\"colab-df-container\">\n",
              "      <div>\n",
              "<style scoped>\n",
              "    .dataframe tbody tr th:only-of-type {\n",
              "        vertical-align: middle;\n",
              "    }\n",
              "\n",
              "    .dataframe tbody tr th {\n",
              "        vertical-align: top;\n",
              "    }\n",
              "\n",
              "    .dataframe thead th {\n",
              "        text-align: right;\n",
              "    }\n",
              "</style>\n",
              "<table border=\"1\" class=\"dataframe\">\n",
              "  <thead>\n",
              "    <tr style=\"text-align: right;\">\n",
              "      <th></th>\n",
              "      <th>ev_id_new</th>\n",
              "      <th>damage_new</th>\n",
              "      <th>evtype_new</th>\n",
              "      <th>year_new</th>\n",
              "      <th>fatal_new</th>\n",
              "      <th>finding_new</th>\n",
              "      <th>total_findings</th>\n",
              "      <th>pnar_new</th>\n",
              "      <th>fnar_new</th>\n",
              "      <th>cnar_new</th>\n",
              "    </tr>\n",
              "  </thead>\n",
              "  <tbody>\n",
              "    <tr>\n",
              "      <th>0</th>\n",
              "      <td>20090101X22627</td>\n",
              "      <td>MINR</td>\n",
              "      <td>INC</td>\n",
              "      <td>2009</td>\n",
              "      <td>NONE</td>\n",
              "      <td>[Aircraft-Aircraft oper/perf/capability-Perfor...</td>\n",
              "      <td>3</td>\n",
              "      <td>The student pilot was conducting his first sol...</td>\n",
              "      <td>The student pilot was conducting his first sol...</td>\n",
              "      <td>The student pilot's failure to maintain direct...</td>\n",
              "    </tr>\n",
              "    <tr>\n",
              "      <th>1</th>\n",
              "      <td>20090102X02015</td>\n",
              "      <td>NaN</td>\n",
              "      <td>INC</td>\n",
              "      <td>2009</td>\n",
              "      <td>NONE</td>\n",
              "      <td>[Personnel issues-Task performance-Use of equi...</td>\n",
              "      <td>2</td>\n",
              "      <td>HISTORY OF FLIGHT\\nOn January 1, 2009, at 2048...</td>\n",
              "      <td>The pilot landed with 4 to 5 gallons of fuel o...</td>\n",
              "      <td>The pilot’s failure to maintain adequate flyin...</td>\n",
              "    </tr>\n",
              "    <tr>\n",
              "      <th>2</th>\n",
              "      <td>20090103X05930</td>\n",
              "      <td>MINR</td>\n",
              "      <td>INC</td>\n",
              "      <td>2009</td>\n",
              "      <td>NONE</td>\n",
              "      <td>[Personnel issues-Task performance-Planning/pr...</td>\n",
              "      <td>3</td>\n",
              "      <td>HISTORY OF FLIGHT\\n\\nOn January 3, 2009, about...</td>\n",
              "      <td>The pilot reported that during a local persona...</td>\n",
              "      <td>A loss of engine power due to fuel exhaustion ...</td>\n",
              "    </tr>\n",
              "    <tr>\n",
              "      <th>3</th>\n",
              "      <td>20090103X62819</td>\n",
              "      <td>MINR</td>\n",
              "      <td>INC</td>\n",
              "      <td>2009</td>\n",
              "      <td>NONE</td>\n",
              "      <td>[Personnel issues-Task performance-Use of equi...</td>\n",
              "      <td>3</td>\n",
              "      <td>HISTORY OF FLIGHT\\n\\nOn January 3, 2009, appro...</td>\n",
              "      <td>After leading a three-ship formation to the de...</td>\n",
              "      <td>The pilot's failure to maintain adequate airsp...</td>\n",
              "    </tr>\n",
              "    <tr>\n",
              "      <th>4</th>\n",
              "      <td>20090103X93911</td>\n",
              "      <td>MINR</td>\n",
              "      <td>INC</td>\n",
              "      <td>2009</td>\n",
              "      <td>NONE</td>\n",
              "      <td>[Environmental issues-Conditions/weather/pheno...</td>\n",
              "      <td>3</td>\n",
              "      <td>HISTORY OF FLIGHT\\n\\nOn January 3, 2009, about...</td>\n",
              "      <td>After departing the traffic pattern and turnin...</td>\n",
              "      <td>The non-instrument rated pilot's decision to c...</td>\n",
              "    </tr>\n",
              "    <tr>\n",
              "      <th>...</th>\n",
              "      <td>...</td>\n",
              "      <td>...</td>\n",
              "      <td>...</td>\n",
              "      <td>...</td>\n",
              "      <td>...</td>\n",
              "      <td>...</td>\n",
              "      <td>...</td>\n",
              "      <td>...</td>\n",
              "      <td>...</td>\n",
              "      <td>...</td>\n",
              "    </tr>\n",
              "    <tr>\n",
              "      <th>13264</th>\n",
              "      <td>20220811105717</td>\n",
              "      <td>SUBS</td>\n",
              "      <td>ACC</td>\n",
              "      <td>2022</td>\n",
              "      <td>NONE</td>\n",
              "      <td>[Environmental issues-Conditions/weather/pheno...</td>\n",
              "      <td>3</td>\n",
              "      <td>NaN</td>\n",
              "      <td>The pilot reported that, while turning the air...</td>\n",
              "      <td>The pilot’s inadequate compensation for gustin...</td>\n",
              "    </tr>\n",
              "    <tr>\n",
              "      <th>13265</th>\n",
              "      <td>20220816105746</td>\n",
              "      <td>SUBS</td>\n",
              "      <td>ACC</td>\n",
              "      <td>2022</td>\n",
              "      <td>NONE</td>\n",
              "      <td>[Personnel issues-Task performance-Use of equi...</td>\n",
              "      <td>3</td>\n",
              "      <td>NaN</td>\n",
              "      <td>The flight instructor and airline transport pi...</td>\n",
              "      <td>The pilot’s failure to maintain directional co...</td>\n",
              "    </tr>\n",
              "    <tr>\n",
              "      <th>13266</th>\n",
              "      <td>20220824105788</td>\n",
              "      <td>SUBS</td>\n",
              "      <td>ACC</td>\n",
              "      <td>2022</td>\n",
              "      <td>NONE</td>\n",
              "      <td>[Aircraft-Aircraft oper/perf/capability-Perfor...</td>\n",
              "      <td>5</td>\n",
              "      <td>NaN</td>\n",
              "      <td>The student pilot reported that the flight ins...</td>\n",
              "      <td>The flight instructor’s failure to maintain ad...</td>\n",
              "    </tr>\n",
              "    <tr>\n",
              "      <th>13267</th>\n",
              "      <td>20220825105796</td>\n",
              "      <td>UNK</td>\n",
              "      <td>ACC</td>\n",
              "      <td>2022</td>\n",
              "      <td>NONE</td>\n",
              "      <td>[Aircraft-Aircraft oper/perf/capability-Perfor...</td>\n",
              "      <td>1</td>\n",
              "      <td>NaN</td>\n",
              "      <td>The pilot reported that, just after take-off a...</td>\n",
              "      <td>The pilot’s failure to maintain directional co...</td>\n",
              "    </tr>\n",
              "    <tr>\n",
              "      <th>13268</th>\n",
              "      <td>20220907105880</td>\n",
              "      <td>SUBS</td>\n",
              "      <td>ACC</td>\n",
              "      <td>2022</td>\n",
              "      <td>NONE</td>\n",
              "      <td>[Aircraft-Aircraft oper/perf/capability-Perfor...</td>\n",
              "      <td>2</td>\n",
              "      <td>NaN</td>\n",
              "      <td>The pilot of the tailwheel-equipped airplane w...</td>\n",
              "      <td>The pilot’s failure to maintain directional co...</td>\n",
              "    </tr>\n",
              "  </tbody>\n",
              "</table>\n",
              "<p>13269 rows × 10 columns</p>\n",
              "</div>\n",
              "      <button class=\"colab-df-convert\" onclick=\"convertToInteractive('df-ab9e15e2-6116-477b-8623-418a88e4abd3')\"\n",
              "              title=\"Convert this dataframe to an interactive table.\"\n",
              "              style=\"display:none;\">\n",
              "        \n",
              "  <svg xmlns=\"http://www.w3.org/2000/svg\" height=\"24px\"viewBox=\"0 0 24 24\"\n",
              "       width=\"24px\">\n",
              "    <path d=\"M0 0h24v24H0V0z\" fill=\"none\"/>\n",
              "    <path d=\"M18.56 5.44l.94 2.06.94-2.06 2.06-.94-2.06-.94-.94-2.06-.94 2.06-2.06.94zm-11 1L8.5 8.5l.94-2.06 2.06-.94-2.06-.94L8.5 2.5l-.94 2.06-2.06.94zm10 10l.94 2.06.94-2.06 2.06-.94-2.06-.94-.94-2.06-.94 2.06-2.06.94z\"/><path d=\"M17.41 7.96l-1.37-1.37c-.4-.4-.92-.59-1.43-.59-.52 0-1.04.2-1.43.59L10.3 9.45l-7.72 7.72c-.78.78-.78 2.05 0 2.83L4 21.41c.39.39.9.59 1.41.59.51 0 1.02-.2 1.41-.59l7.78-7.78 2.81-2.81c.8-.78.8-2.07 0-2.86zM5.41 20L4 18.59l7.72-7.72 1.47 1.35L5.41 20z\"/>\n",
              "  </svg>\n",
              "      </button>\n",
              "      \n",
              "  <style>\n",
              "    .colab-df-container {\n",
              "      display:flex;\n",
              "      flex-wrap:wrap;\n",
              "      gap: 12px;\n",
              "    }\n",
              "\n",
              "    .colab-df-convert {\n",
              "      background-color: #E8F0FE;\n",
              "      border: none;\n",
              "      border-radius: 50%;\n",
              "      cursor: pointer;\n",
              "      display: none;\n",
              "      fill: #1967D2;\n",
              "      height: 32px;\n",
              "      padding: 0 0 0 0;\n",
              "      width: 32px;\n",
              "    }\n",
              "\n",
              "    .colab-df-convert:hover {\n",
              "      background-color: #E2EBFA;\n",
              "      box-shadow: 0px 1px 2px rgba(60, 64, 67, 0.3), 0px 1px 3px 1px rgba(60, 64, 67, 0.15);\n",
              "      fill: #174EA6;\n",
              "    }\n",
              "\n",
              "    [theme=dark] .colab-df-convert {\n",
              "      background-color: #3B4455;\n",
              "      fill: #D2E3FC;\n",
              "    }\n",
              "\n",
              "    [theme=dark] .colab-df-convert:hover {\n",
              "      background-color: #434B5C;\n",
              "      box-shadow: 0px 1px 3px 1px rgba(0, 0, 0, 0.15);\n",
              "      filter: drop-shadow(0px 1px 2px rgba(0, 0, 0, 0.3));\n",
              "      fill: #FFFFFF;\n",
              "    }\n",
              "  </style>\n",
              "\n",
              "      <script>\n",
              "        const buttonEl =\n",
              "          document.querySelector('#df-ab9e15e2-6116-477b-8623-418a88e4abd3 button.colab-df-convert');\n",
              "        buttonEl.style.display =\n",
              "          google.colab.kernel.accessAllowed ? 'block' : 'none';\n",
              "\n",
              "        async function convertToInteractive(key) {\n",
              "          const element = document.querySelector('#df-ab9e15e2-6116-477b-8623-418a88e4abd3');\n",
              "          const dataTable =\n",
              "            await google.colab.kernel.invokeFunction('convertToInteractive',\n",
              "                                                     [key], {});\n",
              "          if (!dataTable) return;\n",
              "\n",
              "          const docLinkHtml = 'Like what you see? Visit the ' +\n",
              "            '<a target=\"_blank\" href=https://colab.research.google.com/notebooks/data_table.ipynb>data table notebook</a>'\n",
              "            + ' to learn more about interactive tables.';\n",
              "          element.innerHTML = '';\n",
              "          dataTable['output_type'] = 'display_data';\n",
              "          await google.colab.output.renderOutput(dataTable, element);\n",
              "          const docLink = document.createElement('div');\n",
              "          docLink.innerHTML = docLinkHtml;\n",
              "          element.appendChild(docLink);\n",
              "        }\n",
              "      </script>\n",
              "    </div>\n",
              "  </div>\n",
              "  "
            ]
          },
          "metadata": {},
          "execution_count": 125
        }
      ]
    },
    {
      "cell_type": "code",
      "source": [
        "table.columns"
      ],
      "metadata": {
        "colab": {
          "base_uri": "https://localhost:8080/"
        },
        "id": "JlXbNFTrPo12",
        "outputId": "9aec43f3-084e-4658-e50c-27f30f1b9019"
      },
      "execution_count": 126,
      "outputs": [
        {
          "output_type": "execute_result",
          "data": {
            "text/plain": [
              "Index(['ev_id_new', 'damage_new', 'evtype_new', 'year_new', 'fatal_new',\n",
              "       'finding_new', 'total_findings', 'pnar_new', 'fnar_new', 'cnar_new'],\n",
              "      dtype='object')"
            ]
          },
          "metadata": {},
          "execution_count": 126
        }
      ]
    },
    {
      "cell_type": "code",
      "source": [
        "len(table.columns)"
      ],
      "metadata": {
        "colab": {
          "base_uri": "https://localhost:8080/"
        },
        "id": "MDhG21SNPyCC",
        "outputId": "274451c9-1093-47bf-90fb-3721efb500ca"
      },
      "execution_count": 127,
      "outputs": [
        {
          "output_type": "execute_result",
          "data": {
            "text/plain": [
              "10"
            ]
          },
          "metadata": {},
          "execution_count": 127
        }
      ]
    },
    {
      "cell_type": "code",
      "source": [
        "# saving the dataframe\n",
        "table.to_csv('Clear_NTSB.csv')\n"
      ],
      "metadata": {
        "id": "IvLYppUQQNY7"
      },
      "execution_count": 128,
      "outputs": []
    },
    {
      "cell_type": "code",
      "source": [],
      "metadata": {
        "id": "0ZDiQ5NeSHST"
      },
      "execution_count": 128,
      "outputs": []
    }
  ]
}